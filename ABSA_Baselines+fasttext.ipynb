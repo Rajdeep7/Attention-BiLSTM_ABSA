{
 "cells": [
  {
   "cell_type": "code",
   "execution_count": 2,
   "metadata": {
    "colab": {
     "base_uri": "https://localhost:8080/",
     "height": 34
    },
    "colab_type": "code",
    "executionInfo": {
     "elapsed": 3500,
     "status": "ok",
     "timestamp": 1559663423224,
     "user": {
      "displayName": "Rajdeep Surolia",
      "photoUrl": "https://lh6.googleusercontent.com/-M3hLJsdJBcw/AAAAAAAAAAI/AAAAAAAAIbo/yUledXU-8ys/s64/photo.jpg",
      "userId": "16899770412623674977"
     },
     "user_tz": -120
    },
    "id": "zQ1LoyknSIJ_",
    "outputId": "2c11d84c-158e-4203-8ba1-3ed574a4c656"
   },
   "outputs": [
    {
     "name": "stdout",
     "output_type": "stream",
     "text": [
      "Mounted at /content/drive\n"
     ]
    }
   ],
   "source": [
    "from google.colab import drive\n",
    "\n",
    "drive.mount(\"/content/drive\", force_remount=True)"
   ]
  },
  {
   "cell_type": "code",
   "execution_count": 3,
   "metadata": {
    "colab": {
     "base_uri": "https://localhost:8080/",
     "height": 71
    },
    "colab_type": "code",
    "executionInfo": {
     "elapsed": 4517,
     "status": "ok",
     "timestamp": 1559663424256,
     "user": {
      "displayName": "Rajdeep Surolia",
      "photoUrl": "https://lh6.googleusercontent.com/-M3hLJsdJBcw/AAAAAAAAAAI/AAAAAAAAIbo/yUledXU-8ys/s64/photo.jpg",
      "userId": "16899770412623674977"
     },
     "user_tz": -120
    },
    "id": "R28pEydESmyD",
    "outputId": "712d24fb-1689-4d06-949d-42781e66e8d5"
   },
   "outputs": [
    {
     "name": "stderr",
     "output_type": "stream",
     "text": [
      "/usr/local/lib/python3.6/dist-packages/sklearn/externals/joblib/__init__.py:15: DeprecationWarning: sklearn.externals.joblib is deprecated in 0.21 and will be removed in 0.23. Please import this functionality directly from joblib, which can be installed with: pip install joblib. If this warning is raised when loading pickled models, you may need to re-serialize those models with scikit-learn 0.21+.\n",
      "  warnings.warn(msg, category=DeprecationWarning)\n"
     ]
    }
   ],
   "source": [
    "import pandas as pd\n",
    "from sklearn.externals import joblib\n",
    "from sklearn.feature_extraction.text import CountVectorizer\n",
    "from sklearn.feature_extraction import DictVectorizer\n",
    "from sklearn.linear_model import SGDClassifier\n",
    "from sklearn.multiclass import OneVsRestClassifier\n",
    "from sklearn.naive_bayes import MultinomialNB\n",
    "from sklearn import svm\n",
    "import xml.etree.ElementTree as ET\n",
    "from lxml import etree\n",
    "from scipy.sparse import hstack\n",
    "import numpy as np\n",
    "import warnings\n",
    "import spacy\n",
    "from os.path import join\n",
    "\n",
    "nlp = spacy.load('en_core_web_sm')\n",
    "\n",
    "path_train = \"/content/drive/My Drive/Colab Notebooks/data/semeval_16/ABSA16_Laptops_Train_English_SB2.xml\"\n",
    "path_test = \"/content/drive/My Drive/Colab Notebooks/data/semeval_16/EN_LAPT_SB2_TESTB.xml\""
   ]
  },
  {
   "cell_type": "code",
   "execution_count": 0,
   "metadata": {
    "colab": {},
    "colab_type": "code",
    "id": "jTwyxKhqHw0U"
   },
   "outputs": [],
   "source": [
    "data_path = \"/content/drive/My Drive/Colab Notebooks/data/semeval_16/\""
   ]
  },
  {
   "cell_type": "code",
   "execution_count": 0,
   "metadata": {
    "colab": {},
    "colab_type": "code",
    "id": "X7qW1sDafyzf"
   },
   "outputs": [],
   "source": [
    "#xml parser\n",
    "def get_list(path):\n",
    "    tree=ET.parse(path)\n",
    "    root = tree.getroot()\n",
    "    text_list = []\n",
    "    opinion_list = []\n",
    "    for review in root.findall('Review'):\n",
    "        text_string=\"\"\n",
    "        opinion_inner_list=[]\n",
    "        for sent in review.findall('./sentences/sentence'):\n",
    "            text_string= text_string+ \" \"+ sent.find('text').text\n",
    "        text_list.append(text_string)\n",
    "        for opinion in review.findall('./Opinions/Opinion'):\n",
    "            opinion_dict = {\n",
    "                opinion.get('category').replace('#','_'): opinion.get('polarity')\n",
    "            }\n",
    "            opinion_inner_list.append(opinion_dict)\n",
    "        opinion_list.append(opinion_inner_list)\n",
    "    return text_list,opinion_list\n",
    "#get_list(path_train)"
   ]
  },
  {
   "cell_type": "code",
   "execution_count": 0,
   "metadata": {
    "colab": {},
    "colab_type": "code",
    "id": "Yfa8Hmk-kTrj"
   },
   "outputs": [],
   "source": [
    "#Selecting only 20 most common aspect.\n",
    "def get_most_common_aspect(opinion_list):\n",
    "    import nltk\n",
    "    opinion= []\n",
    "    for inner_list in opinion_list:\n",
    "        for _dict in inner_list:\n",
    "            for key in _dict:\n",
    "                opinion.append(key)\n",
    "    most_common_aspect = [k for k,v in nltk.FreqDist(opinion).most_common(20)]\n",
    "    return most_common_aspect"
   ]
  },
  {
   "cell_type": "code",
   "execution_count": 0,
   "metadata": {
    "colab": {},
    "colab_type": "code",
    "id": "FgfgiXHNkX72"
   },
   "outputs": [],
   "source": [
    "#generate data frame\n",
    "def get_data_frame(text_list,opinion_list,most_common_aspect):\n",
    "    data={'Review':text_list}\n",
    "    df = pd.DataFrame(data)\n",
    "    if opinion_list:\n",
    "        for inner_list in opinion_list:\n",
    "            for _dict in inner_list:\n",
    "                for key in _dict:\n",
    "                    if key in most_common_aspect:\n",
    "                        df.loc[opinion_list.index(inner_list),key]=_dict[key]\n",
    "    return df"
   ]
  },
  {
   "cell_type": "code",
   "execution_count": 0,
   "metadata": {
    "colab": {},
    "colab_type": "code",
    "id": "FUG0lZR5kaMn"
   },
   "outputs": [],
   "source": [
    "#generate data frame for aspect extraction task\n",
    "def get_aspect_data_frame(df,most_common_aspect):\n",
    "    for common_aspect in most_common_aspect:\n",
    "        df[common_aspect]=df[common_aspect].replace(['positive','negative','neutral','conflict'],[1,1,1,1])\n",
    "    df = df.fillna(0)\n",
    "    return df"
   ]
  },
  {
   "cell_type": "code",
   "execution_count": 0,
   "metadata": {
    "colab": {},
    "colab_type": "code",
    "id": "I1qvzuTRkcPk"
   },
   "outputs": [],
   "source": [
    "def get_positive_data_frame(df,most_common_aspect):\n",
    "    for common_aspect in most_common_aspect:\n",
    "        df[common_aspect]=df[common_aspect].replace(['positive'],[1])\n",
    "        df[common_aspect]=df[common_aspect].replace(['negative','neutral','conflict'],[0,0,0])\n",
    "    df = df.fillna(0)\n",
    "    return df"
   ]
  },
  {
   "cell_type": "code",
   "execution_count": 0,
   "metadata": {
    "colab": {},
    "colab_type": "code",
    "id": "y7KlzdT8keEz"
   },
   "outputs": [],
   "source": [
    "def get_negative_data_frame(df,most_common_aspect):\n",
    "    for common_aspect in most_common_aspect:\n",
    "        df[common_aspect]=df[common_aspect].replace(['negative'],[1])\n",
    "        df[common_aspect]=df[common_aspect].replace(['positive','neutral','conflict'],[0,0,0])\n",
    "    df = df.fillna(0)\n",
    "    return df"
   ]
  },
  {
   "cell_type": "code",
   "execution_count": 0,
   "metadata": {
    "colab": {},
    "colab_type": "code",
    "id": "KY0ww_fWkf4N"
   },
   "outputs": [],
   "source": [
    "def get_neutral_data_frame(df,most_common_aspect):\n",
    "    for common_aspect in most_common_aspect:\n",
    "        df[common_aspect]=df[common_aspect].replace(['neutral','conflict'],[1,1])\n",
    "        df[common_aspect]=df[common_aspect].replace(['negative','positive'],[0,0])\n",
    "    df = df.fillna(0)\n",
    "    return df"
   ]
  },
  {
   "cell_type": "code",
   "execution_count": 0,
   "metadata": {
    "colab": {},
    "colab_type": "code",
    "id": "FmuSRZDJkhyg"
   },
   "outputs": [],
   "source": [
    "def posTag(review):\n",
    "    doc = nlp(review)\n",
    "    tagged_text_list=[]\n",
    "    for token in doc:\n",
    "        tagged_text_list.append((token, token.pos_))\n",
    "    return tagged_text_list\n",
    "#posTag(\"this is random text\")"
   ]
  },
  {
   "cell_type": "code",
   "execution_count": 0,
   "metadata": {
    "colab": {},
    "colab_type": "code",
    "id": "n9rgUmLknX9V"
   },
   "outputs": [],
   "source": [
    "#Filter the word with tag- noun,adjective,verb,adverb\n",
    "def filterTag(tagged_review):\n",
    "    final_text_list=[]\n",
    "    for text_list in tagged_review:\n",
    "        final_text=[]\n",
    "        for word,tag in text_list:\n",
    "            if tag in ['NN','NNS','NNP','NNPS','RB','RBR','RBS','JJ','JJR','JJS','VB','VBD','VBG','VBN','VBP','VBZ']:\n",
    "                final_text.append(word)\n",
    "        final_text_list.append(' '.join(final_text))\n",
    "    return final_text_list"
   ]
  },
  {
   "cell_type": "code",
   "execution_count": 0,
   "metadata": {
    "colab": {},
    "colab_type": "code",
    "id": "w9-rjSRNoSV2"
   },
   "outputs": [],
   "source": [
    "def get_dict_aspect(y,most_common_aspect):\n",
    "    position=[]\n",
    "    for innerlist in y:\n",
    "        position.append([i for i, j in enumerate(innerlist) if j == 1])\n",
    "    sorted_common=sorted(most_common_aspect)\n",
    "    dict_aspect=[]\n",
    "    for innerlist in position:\n",
    "        inner_dict={}\n",
    "        for word in sorted_common:\n",
    "            if sorted_common.index(word) in innerlist:\n",
    "                inner_dict[word]= 5\n",
    "            else:\n",
    "                inner_dict[word]=0\n",
    "        dict_aspect.append(inner_dict)\n",
    "    return dict_aspect"
   ]
  },
  {
   "cell_type": "code",
   "execution_count": 0,
   "metadata": {
    "colab": {},
    "colab_type": "code",
    "id": "cG009LhvoXdi"
   },
   "outputs": [],
   "source": [
    "#Stage 1:\n",
    "#Making list to train\n",
    "train_text_list,train_opinion_list = get_list(path_train)\n",
    "most_common_aspect = get_most_common_aspect(train_opinion_list)"
   ]
  },
  {
   "cell_type": "code",
   "execution_count": 0,
   "metadata": {
    "colab": {},
    "colab_type": "code",
    "id": "snb9WZH6oc6Z"
   },
   "outputs": [],
   "source": [
    "#This takes time to tag. Already tagged and saved. So, loading file ...\n",
    "#tagged_text_list_train=posTag(train_text_list)\n",
    "#joblib.dump(tagged_text_list_train, 'tagged_text_list_train.pkl')\n",
    "tagged_text_list_train=joblib.load('/content/drive/My Drive/Colab Notebooks/tagged_text_list_train.pkl')"
   ]
  },
  {
   "cell_type": "code",
   "execution_count": 0,
   "metadata": {
    "colab": {},
    "colab_type": "code",
    "id": "16nCKUCtY98V"
   },
   "outputs": [],
   "source": [
    "#train list after filter\n",
    "final_train_text_list=filterTag(tagged_text_list_train)"
   ]
  },
  {
   "cell_type": "code",
   "execution_count": 18,
   "metadata": {
    "colab": {
     "base_uri": "https://localhost:8080/",
     "height": 71
    },
    "colab_type": "code",
    "executionInfo": {
     "elapsed": 5844,
     "status": "ok",
     "timestamp": 1559663425743,
     "user": {
      "displayName": "Rajdeep Surolia",
      "photoUrl": "https://lh6.googleusercontent.com/-M3hLJsdJBcw/AAAAAAAAAAI/AAAAAAAAIbo/yUledXU-8ys/s64/photo.jpg",
      "userId": "16899770412623674977"
     },
     "user_tz": -120
    },
    "id": "Lk7NrQVeqC1o",
    "outputId": "26bf064f-6ac2-42bf-ed02-625aefc69853"
   },
   "outputs": [
    {
     "name": "stderr",
     "output_type": "stream",
     "text": [
      "/usr/local/lib/python3.6/dist-packages/ipykernel_launcher.py:3: FutureWarning: '.reindex_axis' is deprecated and will be removed in a future version. Use '.reindex' instead.\n",
      "  This is separate from the ipykernel package so we can avoid doing imports until\n"
     ]
    }
   ],
   "source": [
    "#get data frame\n",
    "df_train = get_data_frame(final_train_text_list,train_opinion_list,most_common_aspect)\n",
    "df_train_aspect = get_aspect_data_frame(df_train,most_common_aspect)\n",
    "df_train_aspect = df_train_aspect.reindex_axis(sorted(df_train_aspect.columns), axis=1)"
   ]
  },
  {
   "cell_type": "code",
   "execution_count": 0,
   "metadata": {
    "colab": {},
    "colab_type": "code",
    "id": "suLJYJ-GWuN6"
   },
   "outputs": [],
   "source": [
    "#Similar for test list\n",
    "test_text_list,test_opinion_list = get_list(path_test)"
   ]
  },
  {
   "cell_type": "code",
   "execution_count": 0,
   "metadata": {
    "colab": {},
    "colab_type": "code",
    "id": "5uq_7ei3W3D_"
   },
   "outputs": [],
   "source": [
    "#tagged_text_list_test=posTag(test_text_list)\n",
    "#joblib.dump(tagged_text_list_test, 'tagged_text_list_test.pkl')\n",
    "tagged_text_list_test=joblib.load('/content/drive/My Drive/Colab Notebooks/tagged_text_list_test.pkl')"
   ]
  },
  {
   "cell_type": "code",
   "execution_count": 0,
   "metadata": {
    "colab": {},
    "colab_type": "code",
    "id": "b6EiVCOwXSXu"
   },
   "outputs": [],
   "source": [
    "final_test_text_list=filterTag(tagged_text_list_test)"
   ]
  },
  {
   "cell_type": "code",
   "execution_count": 22,
   "metadata": {
    "colab": {
     "base_uri": "https://localhost:8080/",
     "height": 71
    },
    "colab_type": "code",
    "executionInfo": {
     "elapsed": 5990,
     "status": "ok",
     "timestamp": 1559663425929,
     "user": {
      "displayName": "Rajdeep Surolia",
      "photoUrl": "https://lh6.googleusercontent.com/-M3hLJsdJBcw/AAAAAAAAAAI/AAAAAAAAIbo/yUledXU-8ys/s64/photo.jpg",
      "userId": "16899770412623674977"
     },
     "user_tz": -120
    },
    "id": "XTv6v0FVXYhF",
    "outputId": "36568f27-c9b8-42ca-c5fd-5c5143da2384"
   },
   "outputs": [
    {
     "name": "stderr",
     "output_type": "stream",
     "text": [
      "/usr/local/lib/python3.6/dist-packages/ipykernel_launcher.py:3: FutureWarning: '.reindex_axis' is deprecated and will be removed in a future version. Use '.reindex' instead.\n",
      "  This is separate from the ipykernel package so we can avoid doing imports until\n"
     ]
    }
   ],
   "source": [
    "df_test = get_data_frame(final_test_text_list,test_opinion_list,most_common_aspect)\n",
    "df_test_aspect = get_aspect_data_frame(df_test,most_common_aspect)\n",
    "df_test_aspect = df_test_aspect.reindex_axis(sorted(df_test_aspect.columns), axis=1)"
   ]
  },
  {
   "cell_type": "code",
   "execution_count": 0,
   "metadata": {
    "colab": {},
    "colab_type": "code",
    "id": "jpkQoUf3CThe"
   },
   "outputs": [],
   "source": [
    "df_test_aspect.replace('',1, inplace=True)"
   ]
  },
  {
   "cell_type": "code",
   "execution_count": 0,
   "metadata": {
    "colab": {},
    "colab_type": "code",
    "id": "IUcifAtIXbqm"
   },
   "outputs": [],
   "source": [
    "#Sort the data frame according to aspect's name and separate data(X) and target(y)\n",
    "#df_train_aspect = df_train_aspect.sample(frac=1).reset_index(drop=True) #For randoming\n",
    "X_train= df_train_aspect.Review\n",
    "y_train = df_train_aspect.drop('Review',1)\n",
    "\n",
    "#df_test_aspect = df_test_aspect.sample(frac=1).reset_index(drop=True) #For randoming\n",
    "X_test = df_test_aspect.Review\n",
    "y_test = df_test_aspect.drop('Review',1)"
   ]
  },
  {
   "cell_type": "code",
   "execution_count": 0,
   "metadata": {
    "colab": {},
    "colab_type": "code",
    "id": "f8KM82hUXrO7"
   },
   "outputs": [],
   "source": [
    "#Change y_train to numpy array\n",
    "import numpy as np\n",
    "y_train = np.asarray(y_train, dtype=np.int64)\n",
    "y_test = np.asarray(y_test, dtype=np.int64)"
   ]
  },
  {
   "cell_type": "code",
   "execution_count": 26,
   "metadata": {
    "colab": {
     "base_uri": "https://localhost:8080/",
     "height": 34
    },
    "colab_type": "code",
    "executionInfo": {
     "elapsed": 564,
     "status": "ok",
     "timestamp": 1559663433439,
     "user": {
      "displayName": "Rajdeep Surolia",
      "photoUrl": "https://lh6.googleusercontent.com/-M3hLJsdJBcw/AAAAAAAAAAI/AAAAAAAAIbo/yUledXU-8ys/s64/photo.jpg",
      "userId": "16899770412623674977"
     },
     "user_tz": -120
    },
    "id": "-DHA8nmX9WZS",
    "outputId": "1c3432cb-8e34-4098-ca25-37a4324352ff"
   },
   "outputs": [
    {
     "name": "stdout",
     "output_type": "stream",
     "text": [
      "/content/drive/My Drive/Colab Notebooks\n"
     ]
    }
   ],
   "source": [
    "%cd /content/drive/My\\ Drive/Colab Notebooks/ "
   ]
  },
  {
   "cell_type": "code",
   "execution_count": 42,
   "metadata": {
    "colab": {
     "base_uri": "https://localhost:8080/",
     "height": 327
    },
    "colab_type": "code",
    "executionInfo": {
     "elapsed": 202039,
     "status": "ok",
     "timestamp": 1559663349176,
     "user": {
      "displayName": "Rajdeep Surolia",
      "photoUrl": "https://lh6.googleusercontent.com/-M3hLJsdJBcw/AAAAAAAAAAI/AAAAAAAAIbo/yUledXU-8ys/s64/photo.jpg",
      "userId": "16899770412623674977"
     },
     "user_tz": -120
    },
    "id": "Jgxa-pNJ9ciK",
    "outputId": "41d45e6c-d3f5-44cf-9389-9791f49f4448"
   },
   "outputs": [
    {
     "name": "stdout",
     "output_type": "stream",
     "text": [
      "fatal: destination path 'fastText' already exists and is not an empty directory.\n",
      "/content/drive/My Drive/Colab Notebooks/fastText\n",
      "Processing /content/drive/My Drive/Colab Notebooks/fastText\n",
      "Requirement already satisfied: pybind11>=2.2 in /usr/local/lib/python3.6/dist-packages (from fasttext==0.8.22) (2.2.4)\n",
      "Requirement already satisfied: setuptools>=0.7.0 in /usr/local/lib/python3.6/dist-packages (from fasttext==0.8.22) (41.0.1)\n",
      "Requirement already satisfied: numpy in /usr/local/lib/python3.6/dist-packages (from fasttext==0.8.22) (1.16.4)\n",
      "Building wheels for collected packages: fasttext\n",
      "  Building wheel for fasttext (setup.py) ... \u001b[?25l\u001b[?25hdone\n",
      "  Stored in directory: /tmp/pip-ephem-wheel-cache-_1q3dvsu/wheels/df/47/19/b7f3fb1f41bb433ace24a8b518bf1f72fff37c1444a6f2d85e\n",
      "Successfully built fasttext\n",
      "Installing collected packages: fasttext\n",
      "Successfully installed fasttext-0.8.22\n"
     ]
    },
    {
     "data": {
      "application/vnd.colab-display-data+json": {
       "pip_warning": {
        "packages": [
         "fastText"
        ]
       }
      }
     },
     "metadata": {
      "tags": []
     },
     "output_type": "display_data"
    }
   ],
   "source": [
    "!git clone https://github.com/facebookresearch/fastText.git\n",
    "%cd fastText\n",
    "!pip install ."
   ]
  },
  {
   "cell_type": "code",
   "execution_count": 27,
   "metadata": {
    "colab": {
     "base_uri": "https://localhost:8080/",
     "height": 34
    },
    "colab_type": "code",
    "executionInfo": {
     "elapsed": 1447,
     "status": "ok",
     "timestamp": 1559663440455,
     "user": {
      "displayName": "Rajdeep Surolia",
      "photoUrl": "https://lh6.googleusercontent.com/-M3hLJsdJBcw/AAAAAAAAAAI/AAAAAAAAIbo/yUledXU-8ys/s64/photo.jpg",
      "userId": "16899770412623674977"
     },
     "user_tz": -120
    },
    "id": "D7owgkeV-S36",
    "outputId": "1d974823-09de-40e0-cbca-a4f8cafae80e"
   },
   "outputs": [
    {
     "name": "stdout",
     "output_type": "stream",
     "text": [
      "/content/drive/My Drive/Colab Notebooks\n"
     ]
    }
   ],
   "source": [
    "!pwd"
   ]
  },
  {
   "cell_type": "markdown",
   "metadata": {
    "colab_type": "text",
    "id": "oSY4Hc_SVNEN"
   },
   "source": [
    "## **2.3 Generate word embeddings using pre-trained fasttext**"
   ]
  },
  {
   "cell_type": "code",
   "execution_count": 0,
   "metadata": {
    "colab": {},
    "colab_type": "code",
    "id": "_dYpgspQKSAx"
   },
   "outputs": [],
   "source": [
    "import fastText"
   ]
  },
  {
   "cell_type": "code",
   "execution_count": 0,
   "metadata": {
    "colab": {},
    "colab_type": "code",
    "id": "N_-c8JUoXthd"
   },
   "outputs": [],
   "source": [
    "ft_model = fastText.load_model('/content/drive/My Drive/Colab Notebooks/cc.en.300.bin')"
   ]
  },
  {
   "cell_type": "code",
   "execution_count": 0,
   "metadata": {
    "colab": {},
    "colab_type": "code",
    "id": "HTsZCMCfEQz0"
   },
   "outputs": [],
   "source": [
    "#X_train_dtm = fastText(X_train, size=300, window=5, min_count=5, workers=4,sg=1)\n",
    "#X_test_dtm = FastText(X_test, size=300, window=5, min_count=5, workers=4,sg=1)"
   ]
  },
  {
   "cell_type": "code",
   "execution_count": 0,
   "metadata": {
    "colab": {},
    "colab_type": "code",
    "id": "zxp9w-x0HlIy"
   },
   "outputs": [],
   "source": [
    "def write_binary(generated_embed, operation, emb_type, pre_trained):\n",
    "  if pre_trained == True:\n",
    "    f_path = data_path + \"laptop_\" + operation + \"_\" + emb_type + \"_pre\" + \".pkl\"\n",
    "  else:\n",
    "    f_path = data_path + \"laptop_\" + operation + \"_\" + emb_type + \".pkl\"\n",
    "  joblib.dump(generated_embed, f_path)"
   ]
  },
  {
   "cell_type": "code",
   "execution_count": 0,
   "metadata": {
    "colab": {},
    "colab_type": "code",
    "id": "YbRwf_C8_N8Q"
   },
   "outputs": [],
   "source": [
    "#def get_vecs_pretrained(embedding_type, operation):\n",
    "#  embed = []\n",
    "#  unique_words = []\n",
    "#  if operation == \"train\":\n",
    "#    X = X_train\n",
    "#  else:\n",
    "#    X = X_test \n",
    "#  i = 0\n",
    "#  for sent in X:\n",
    "#    words = sent.split()\n",
    "#    for w in words:\n",
    "#      unique_words.append(w)\n",
    "#      if embedding_type == 'fasttext'and w not in unique_words:\n",
    "#          embedding = ft_model.get_word_vector(w)\n",
    "#          unique_words.append(w)\n",
    "#      embed.append(embedding)\n",
    "#      i += 1\n",
    "#  write_binary(embed, operation, embedding_type, True)\n",
    "#  return embed"
   ]
  },
  {
   "cell_type": "code",
   "execution_count": 0,
   "metadata": {
    "colab": {},
    "colab_type": "code",
    "id": "pQSI69ZmScRr"
   },
   "outputs": [],
   "source": [
    "def get_vecs_pretrained(embedding_type, operation):\n",
    "  embed = []\n",
    "  if operation == \"train\":\n",
    "    X = X_train\n",
    "  else:\n",
    "    X = X_test \n",
    "  for sent in X:\n",
    "    if embedding_type == 'fasttext':\n",
    "        embedding = ft_model.get_word_vector(sent)\n",
    "    embed.append(embedding)\n",
    "  write_binary(embed, operation, embedding_type, False)\n",
    "  return embed"
   ]
  },
  {
   "cell_type": "code",
   "execution_count": 0,
   "metadata": {
    "colab": {},
    "colab_type": "code",
    "id": "6j3EpCyaUGpK"
   },
   "outputs": [],
   "source": [
    "X_train_dtm = get_vecs_pretrained('fasttext', \"train\")"
   ]
  },
  {
   "cell_type": "code",
   "execution_count": 0,
   "metadata": {
    "colab": {},
    "colab_type": "code",
    "id": "mfFpamHrEejC"
   },
   "outputs": [],
   "source": [
    "X_test_dtm = get_vecs_pretrained('fasttext', \"test\")"
   ]
  },
  {
   "cell_type": "markdown",
   "metadata": {
    "colab_type": "text",
    "id": "XAja6yXJVBcd"
   },
   "source": [
    "## **3. Training - I. SVC, II. Linear SVC, III. SGD**"
   ]
  },
  {
   "cell_type": "code",
   "execution_count": 0,
   "metadata": {
    "colab": {},
    "colab_type": "code",
    "id": "Xo7ATW13THOb"
   },
   "outputs": [],
   "source": [
    "#Create various models. These are multi-label models.\n",
    "#nb_classif = OneVsRestClassifier(MultinomialNB()).fit(X_train_dtm, y_train)\n",
    "C = 1.0 #SVregularization parameter\n",
    "svc = OneVsRestClassifier(svm.SVC(kernel='linear', C=C)).fit(X_train_dtm, y_train)\n",
    "lin_svc = OneVsRestClassifier(svm.LinearSVC(C=C)).fit(X_train_dtm, y_train)\n",
    "sgd = OneVsRestClassifier(SGDClassifier()).fit(X_train_dtm,y_train)"
   ]
  },
  {
   "cell_type": "code",
   "execution_count": 0,
   "metadata": {
    "colab": {},
    "colab_type": "code",
    "id": "Lf5JbMN8Tu3x"
   },
   "outputs": [],
   "source": [
    "#Predict the test data using classifiers\n",
    "#y_pred_class = nb_classif.predict(X_test_dtm)\n",
    "y_pred_class_svc = svc.predict(X_test_dtm)\n",
    "y_pred_class_lin_svc = lin_svc.predict(X_test_dtm)\n",
    "y_pred_class_sgd = sgd.predict(X_test_dtm)"
   ]
  },
  {
   "cell_type": "markdown",
   "metadata": {
    "colab_type": "text",
    "id": "I4OpSW7jU4rH"
   },
   "source": [
    "## **4. Evaluation**"
   ]
  },
  {
   "cell_type": "code",
   "execution_count": 0,
   "metadata": {
    "colab": {},
    "colab_type": "code",
    "id": "dK13EjvaTk5J"
   },
   "outputs": [],
   "source": [
    "#Following code to test metrics of all aspect extraction classifiers\n",
    "from sklearn import metrics"
   ]
  },
  {
   "cell_type": "code",
   "execution_count": 154,
   "metadata": {
    "colab": {
     "base_uri": "https://localhost:8080/",
     "height": 68
    },
    "colab_type": "code",
    "executionInfo": {
     "elapsed": 415,
     "status": "ok",
     "timestamp": 1559684069660,
     "user": {
      "displayName": "Rajdeep Surolia",
      "photoUrl": "https://lh6.googleusercontent.com/-M3hLJsdJBcw/AAAAAAAAAAI/AAAAAAAAIbo/yUledXU-8ys/s64/photo.jpg",
      "userId": "16899770412623674977"
     },
     "user_tz": -120
    },
    "id": "MyWB0wTeTlVM",
    "outputId": "eddb1e4b-0d30-4e68-b8b7-0775e5eda9a8"
   },
   "outputs": [
    {
     "name": "stdout",
     "output_type": "stream",
     "text": [
      "0.0125\n",
      "0.0125\n",
      "0.0125\n"
     ]
    }
   ],
   "source": [
    "#print(metrics.accuracy_score(y_test,y_pred_class))\n",
    "print(metrics.accuracy_score(y_test,y_pred_class_svc))\n",
    "print(metrics.accuracy_score(y_test,y_pred_class_lin_svc))\n",
    "print(metrics.accuracy_score(y_test,y_pred_class_sgd))"
   ]
  },
  {
   "cell_type": "code",
   "execution_count": 155,
   "metadata": {
    "colab": {
     "base_uri": "https://localhost:8080/",
     "height": 68
    },
    "colab_type": "code",
    "executionInfo": {
     "elapsed": 615,
     "status": "ok",
     "timestamp": 1559684071892,
     "user": {
      "displayName": "Rajdeep Surolia",
      "photoUrl": "https://lh6.googleusercontent.com/-M3hLJsdJBcw/AAAAAAAAAAI/AAAAAAAAIbo/yUledXU-8ys/s64/photo.jpg",
      "userId": "16899770412623674977"
     },
     "user_tz": -120
    },
    "id": "j2N0BgfVTlY8",
    "outputId": "ac61cc8a-c88c-4b8b-a1a8-e1edce2bdea9"
   },
   "outputs": [
    {
     "name": "stdout",
     "output_type": "stream",
     "text": [
      "1.0\n",
      "1.0\n",
      "0.625\n"
     ]
    }
   ],
   "source": [
    "#print(metrics.precision_score(y_test,y_pred_class,average='micro'))\n",
    "print(metrics.precision_score(y_test,y_pred_class_svc,average='micro'))\n",
    "print(metrics.precision_score(y_test,y_pred_class_lin_svc,average='micro'))\n",
    "print(metrics.precision_score(y_test,y_pred_class_sgd,average='micro'))"
   ]
  },
  {
   "cell_type": "code",
   "execution_count": 156,
   "metadata": {
    "colab": {
     "base_uri": "https://localhost:8080/",
     "height": 68
    },
    "colab_type": "code",
    "executionInfo": {
     "elapsed": 575,
     "status": "ok",
     "timestamp": 1559684073460,
     "user": {
      "displayName": "Rajdeep Surolia",
      "photoUrl": "https://lh6.googleusercontent.com/-M3hLJsdJBcw/AAAAAAAAAAI/AAAAAAAAIbo/yUledXU-8ys/s64/photo.jpg",
      "userId": "16899770412623674977"
     },
     "user_tz": -120
    },
    "id": "nzdJZdM2TlcX",
    "outputId": "f792d6f4-3aac-49bb-a48e-80519fefe9f9"
   },
   "outputs": [
    {
     "name": "stdout",
     "output_type": "stream",
     "text": [
      "0.1937046004842615\n",
      "0.19612590799031476\n",
      "0.36319612590799033\n"
     ]
    }
   ],
   "source": [
    "#print(metrics.recall_score(y_test,y_pred_class,average='micro'))\n",
    "print(metrics.recall_score(y_test,y_pred_class_svc,average='micro'))\n",
    "print(metrics.recall_score(y_test,y_pred_class_lin_svc,average='micro'))\n",
    "print(metrics.recall_score(y_test,y_pred_class_sgd,average='micro'))"
   ]
  },
  {
   "cell_type": "code",
   "execution_count": 157,
   "metadata": {
    "colab": {
     "base_uri": "https://localhost:8080/",
     "height": 68
    },
    "colab_type": "code",
    "executionInfo": {
     "elapsed": 382,
     "status": "ok",
     "timestamp": 1559684074708,
     "user": {
      "displayName": "Rajdeep Surolia",
      "photoUrl": "https://lh6.googleusercontent.com/-M3hLJsdJBcw/AAAAAAAAAAI/AAAAAAAAIbo/yUledXU-8ys/s64/photo.jpg",
      "userId": "16899770412623674977"
     },
     "user_tz": -120
    },
    "id": "yGnp4ekYTlfz",
    "outputId": "535284ef-f713-4f14-8ed5-9beabc799de5"
   },
   "outputs": [
    {
     "name": "stdout",
     "output_type": "stream",
     "text": [
      "0.32454361054766734\n",
      "0.32793522267206476\n",
      "0.45941807044410415\n"
     ]
    }
   ],
   "source": [
    "#print(metrics.f1_score(y_test,y_pred_class,average='micro'))\n",
    "print(metrics.f1_score(y_test,y_pred_class_svc,average='micro'))\n",
    "print(metrics.f1_score(y_test,y_pred_class_lin_svc,average='micro'))\n",
    "print(metrics.f1_score(y_test,y_pred_class_sgd,average='micro'))"
   ]
  },
  {
   "cell_type": "code",
   "execution_count": 158,
   "metadata": {
    "colab": {
     "base_uri": "https://localhost:8080/",
     "height": 1445
    },
    "colab_type": "code",
    "executionInfo": {
     "elapsed": 390,
     "status": "ok",
     "timestamp": 1559684076149,
     "user": {
      "displayName": "Rajdeep Surolia",
      "photoUrl": "https://lh6.googleusercontent.com/-M3hLJsdJBcw/AAAAAAAAAAI/AAAAAAAAIbo/yUledXU-8ys/s64/photo.jpg",
      "userId": "16899770412623674977"
     },
     "user_tz": -120
    },
    "id": "xqCJkVSFTljC",
    "outputId": "74dde397-4885-473a-8e45-3ea312c0b8a2"
   },
   "outputs": [
    {
     "name": "stdout",
     "output_type": "stream",
     "text": [
      "              precision    recall  f1-score   support\n",
      "\n",
      "           0       0.00      0.00      0.00        14\n",
      "           1       0.00      0.00      0.00        24\n",
      "           2       0.00      0.00      0.00        12\n",
      "           3       0.00      0.00      0.00         4\n",
      "           4       0.00      0.00      0.00        21\n",
      "           5       0.00      0.00      0.00         8\n",
      "           6       0.00      0.00      0.00         7\n",
      "           7       0.00      0.00      0.00        39\n",
      "           8       1.00      1.00      1.00        80\n",
      "           9       0.00      0.00      0.00        24\n",
      "          10       0.00      0.00      0.00        46\n",
      "          11       0.00      0.00      0.00         5\n",
      "          12       0.00      0.00      0.00        27\n",
      "          13       0.00      0.00      0.00        29\n",
      "          14       0.00      0.00      0.00        30\n",
      "          15       0.00      0.00      0.00         4\n",
      "          16       0.00      0.00      0.00         9\n",
      "          17       0.00      0.00      0.00        15\n",
      "          18       0.00      0.00      0.00         4\n",
      "          19       0.00      0.00      0.00        11\n",
      "\n",
      "   micro avg       1.00      0.19      0.32       413\n",
      "   macro avg       0.05      0.05      0.05       413\n",
      "weighted avg       0.19      0.19      0.19       413\n",
      " samples avg       1.00      0.24      0.37       413\n",
      "\n",
      "              precision    recall  f1-score   support\n",
      "\n",
      "           0       0.00      0.00      0.00        14\n",
      "           1       0.00      0.00      0.00        24\n",
      "           2       0.00      0.00      0.00        12\n",
      "           3       0.00      0.00      0.00         4\n",
      "           4       0.00      0.00      0.00        21\n",
      "           5       0.00      0.00      0.00         8\n",
      "           6       0.00      0.00      0.00         7\n",
      "           7       0.00      0.00      0.00        39\n",
      "           8       1.00      1.00      1.00        80\n",
      "           9       0.00      0.00      0.00        24\n",
      "          10       1.00      0.02      0.04        46\n",
      "          11       0.00      0.00      0.00         5\n",
      "          12       0.00      0.00      0.00        27\n",
      "          13       0.00      0.00      0.00        29\n",
      "          14       0.00      0.00      0.00        30\n",
      "          15       0.00      0.00      0.00         4\n",
      "          16       0.00      0.00      0.00         9\n",
      "          17       0.00      0.00      0.00        15\n",
      "          18       0.00      0.00      0.00         4\n",
      "          19       0.00      0.00      0.00        11\n",
      "\n",
      "   micro avg       1.00      0.20      0.33       413\n",
      "   macro avg       0.10      0.05      0.05       413\n",
      "weighted avg       0.31      0.20      0.20       413\n",
      " samples avg       1.00      0.24      0.37       413\n",
      "\n",
      "              precision    recall  f1-score   support\n",
      "\n",
      "           0       0.00      0.00      0.00        14\n",
      "           1       0.30      1.00      0.46        24\n",
      "           2       0.00      0.00      0.00        12\n",
      "           3       0.00      0.00      0.00         4\n",
      "           4       0.00      0.00      0.00        21\n",
      "           5       0.00      0.00      0.00         8\n",
      "           6       0.00      0.00      0.00         7\n",
      "           7       0.00      0.00      0.00        39\n",
      "           8       1.00      1.00      1.00        80\n",
      "           9       0.00      0.00      0.00        24\n",
      "          10       0.57      1.00      0.73        46\n",
      "          11       0.00      0.00      0.00         5\n",
      "          12       0.00      0.00      0.00        27\n",
      "          13       0.00      0.00      0.00        29\n",
      "          14       0.00      0.00      0.00        30\n",
      "          15       0.00      0.00      0.00         4\n",
      "          16       0.00      0.00      0.00         9\n",
      "          17       0.00      0.00      0.00        15\n",
      "          18       0.00      0.00      0.00         4\n",
      "          19       0.00      0.00      0.00        11\n",
      "\n",
      "   micro avg       0.62      0.36      0.46       413\n",
      "   macro avg       0.09      0.15      0.11       413\n",
      "weighted avg       0.28      0.36      0.30       413\n",
      " samples avg       0.62      0.41      0.48       413\n",
      "\n"
     ]
    }
   ],
   "source": [
    "with warnings.catch_warnings():\n",
    "    warnings.simplefilter(\"ignore\")\n",
    "    #print(metrics.classification_report(y_test, y_pred_class))\n",
    "    print(metrics.classification_report(y_test, y_pred_class_svc))\n",
    "    print(metrics.classification_report(y_test, y_pred_class_lin_svc))\n",
    "    print(metrics.classification_report(y_test, y_pred_class_sgd))"
   ]
  },
  {
   "cell_type": "markdown",
   "metadata": {
    "colab_type": "text",
    "id": "BYR7Z4zMUkHR"
   },
   "source": [
    "# **Training dataset and aspects with fasttext and glove**"
   ]
  },
  {
   "cell_type": "code",
   "execution_count": 75,
   "metadata": {
    "colab": {
     "base_uri": "https://localhost:8080/",
     "height": 10067
    },
    "colab_type": "code",
    "executionInfo": {
     "elapsed": 21324,
     "status": "ok",
     "timestamp": 1559672171329,
     "user": {
      "displayName": "Rajdeep Surolia",
      "photoUrl": "https://lh6.googleusercontent.com/-M3hLJsdJBcw/AAAAAAAAAAI/AAAAAAAAIbo/yUledXU-8ys/s64/photo.jpg",
      "userId": "16899770412623674977"
     },
     "user_tz": -120
    },
    "id": "qAXDbkIqs6G-",
    "outputId": "ab5f3244-140e-4b8f-abca-45cf6430fe67"
   },
   "outputs": [
    {
     "name": "stdout",
     "output_type": "stream",
     "text": [
      "--2019-06-04 18:15:50--  https://github.com/facebookresearch/fastText/archive/v0.2.0.zip\n",
      "Resolving github.com (github.com)... 192.30.253.112\n",
      "Connecting to github.com (github.com)|192.30.253.112|:443... connected.\n",
      "HTTP request sent, awaiting response... 302 Found\n",
      "Location: https://codeload.github.com/facebookresearch/fastText/zip/v0.2.0 [following]\n",
      "--2019-06-04 18:15:51--  https://codeload.github.com/facebookresearch/fastText/zip/v0.2.0\n",
      "Resolving codeload.github.com (codeload.github.com)... 192.30.253.120\n",
      "Connecting to codeload.github.com (codeload.github.com)|192.30.253.120|:443... connected.\n",
      "HTTP request sent, awaiting response... 200 OK\n",
      "Length: unspecified [application/zip]\n",
      "Saving to: ‘v0.2.0.zip’\n",
      "\n",
      "v0.2.0.zip              [  <=>               ]   4.10M  10.5MB/s    in 0.4s    \n",
      "\n",
      "2019-06-04 18:15:52 (10.5 MB/s) - ‘v0.2.0.zip’ saved [4304799]\n",
      "\n",
      "Archive:  v0.2.0.zip\n",
      "7842495a4d64c7a3bb4339d45d6e64321d002ed8\n",
      "   creating: fastText-0.2.0/\n",
      "   creating: fastText-0.2.0/.circleci/\n",
      "  inflating: fastText-0.2.0/.circleci/cmake_test.sh  \n",
      "  inflating: fastText-0.2.0/.circleci/config.yml  \n",
      "  inflating: fastText-0.2.0/.circleci/gcc_test.sh  \n",
      "  inflating: fastText-0.2.0/.circleci/pip_test.sh  \n",
      "  inflating: fastText-0.2.0/.circleci/pull_data.sh  \n",
      "  inflating: fastText-0.2.0/.circleci/python_test.sh  \n",
      "  inflating: fastText-0.2.0/.circleci/run_locally.sh  \n",
      "  inflating: fastText-0.2.0/.circleci/setup_circleimg.sh  \n",
      "  inflating: fastText-0.2.0/.circleci/setup_debian.sh  \n",
      "  inflating: fastText-0.2.0/.gitignore  \n",
      "  inflating: fastText-0.2.0/CMakeLists.txt  \n",
      "  inflating: fastText-0.2.0/CONTRIBUTING.md  \n",
      "  inflating: fastText-0.2.0/LICENSE  \n",
      "  inflating: fastText-0.2.0/MANIFEST.in  \n",
      "  inflating: fastText-0.2.0/Makefile  \n",
      "  inflating: fastText-0.2.0/README.md  \n",
      "   creating: fastText-0.2.0/alignment/\n",
      "  inflating: fastText-0.2.0/alignment/README.md  \n",
      "  inflating: fastText-0.2.0/alignment/align.py  \n",
      "  inflating: fastText-0.2.0/alignment/eval.py  \n",
      "  inflating: fastText-0.2.0/alignment/example.sh  \n",
      "  inflating: fastText-0.2.0/alignment/utils.py  \n",
      "  inflating: fastText-0.2.0/classification-example.sh  \n",
      "  inflating: fastText-0.2.0/classification-results.sh  \n",
      "   creating: fastText-0.2.0/docs/\n",
      "  inflating: fastText-0.2.0/docs/aligned-vectors.md  \n",
      "  inflating: fastText-0.2.0/docs/api.md  \n",
      "  inflating: fastText-0.2.0/docs/cheatsheet.md  \n",
      "  inflating: fastText-0.2.0/docs/crawl-vectors.md  \n",
      "  inflating: fastText-0.2.0/docs/dataset.md  \n",
      "  inflating: fastText-0.2.0/docs/english-vectors.md  \n",
      "  inflating: fastText-0.2.0/docs/faqs.md  \n",
      "  inflating: fastText-0.2.0/docs/language-identification.md  \n",
      "  inflating: fastText-0.2.0/docs/options.md  \n",
      "  inflating: fastText-0.2.0/docs/pretrained-vectors.md  \n",
      "  inflating: fastText-0.2.0/docs/references.md  \n",
      "  inflating: fastText-0.2.0/docs/supervised-models.md  \n",
      "  inflating: fastText-0.2.0/docs/supervised-tutorial.md  \n",
      "  inflating: fastText-0.2.0/docs/support.md  \n",
      "  inflating: fastText-0.2.0/docs/unsupervised-tutorials.md  \n",
      "  inflating: fastText-0.2.0/eval.py  \n",
      "  inflating: fastText-0.2.0/get-wikimedia.sh  \n",
      "  inflating: fastText-0.2.0/pretrained-vectors.md  \n",
      "   creating: fastText-0.2.0/python/\n",
      "  inflating: fastText-0.2.0/python/README.md  \n",
      "  inflating: fastText-0.2.0/python/README.rst  \n",
      "   creating: fastText-0.2.0/python/benchmarks/\n",
      "  inflating: fastText-0.2.0/python/benchmarks/README.rst  \n",
      "  inflating: fastText-0.2.0/python/benchmarks/get_word_vector.py  \n",
      "   creating: fastText-0.2.0/python/doc/\n",
      "   creating: fastText-0.2.0/python/doc/examples/\n",
      "  inflating: fastText-0.2.0/python/doc/examples/FastTextEmbeddingBag.py  \n",
      "  inflating: fastText-0.2.0/python/doc/examples/bin_to_vec.py  \n",
      "  inflating: fastText-0.2.0/python/doc/examples/compute_accuracy.py  \n",
      "  inflating: fastText-0.2.0/python/doc/examples/get_vocab.py  \n",
      "  inflating: fastText-0.2.0/python/doc/examples/train_supervised.py  \n",
      "  inflating: fastText-0.2.0/python/doc/examples/train_unsupervised.py  \n",
      "   creating: fastText-0.2.0/python/fastText/\n",
      "  inflating: fastText-0.2.0/python/fastText/FastText.py  \n",
      "  inflating: fastText-0.2.0/python/fastText/__init__.py  \n",
      "   creating: fastText-0.2.0/python/fastText/pybind/\n",
      "  inflating: fastText-0.2.0/python/fastText/pybind/fasttext_pybind.cc  \n",
      "   creating: fastText-0.2.0/python/fastText/tests/\n",
      "  inflating: fastText-0.2.0/python/fastText/tests/__init__.py  \n",
      "  inflating: fastText-0.2.0/python/fastText/tests/test_configurations.py  \n",
      "  inflating: fastText-0.2.0/python/fastText/tests/test_script.py  \n",
      "   creating: fastText-0.2.0/python/fastText/util/\n",
      "  inflating: fastText-0.2.0/python/fastText/util/__init__.py  \n",
      "  inflating: fastText-0.2.0/python/fastText/util/util.py  \n",
      "  inflating: fastText-0.2.0/quantization-example.sh  \n",
      "  inflating: fastText-0.2.0/runtests.py  \n",
      "   creating: fastText-0.2.0/scripts/\n",
      "   creating: fastText-0.2.0/scripts/kbcompletion/\n",
      "  inflating: fastText-0.2.0/scripts/kbcompletion/README.md  \n",
      "  inflating: fastText-0.2.0/scripts/kbcompletion/data.sh  \n",
      "  inflating: fastText-0.2.0/scripts/kbcompletion/eval.cpp  \n",
      "  inflating: fastText-0.2.0/scripts/kbcompletion/fb15k.sh  \n",
      "  inflating: fastText-0.2.0/scripts/kbcompletion/fb15k237.sh  \n",
      "  inflating: fastText-0.2.0/scripts/kbcompletion/svo.sh  \n",
      "  inflating: fastText-0.2.0/scripts/kbcompletion/wn18.sh  \n",
      "   creating: fastText-0.2.0/scripts/quantization/\n",
      "  inflating: fastText-0.2.0/scripts/quantization/quantization-results.sh  \n",
      " extracting: fastText-0.2.0/setup.cfg  \n",
      "  inflating: fastText-0.2.0/setup.py  \n",
      "   creating: fastText-0.2.0/src/\n",
      "  inflating: fastText-0.2.0/src/args.cc  \n",
      "  inflating: fastText-0.2.0/src/args.h  \n",
      "  inflating: fastText-0.2.0/src/dictionary.cc  \n",
      "  inflating: fastText-0.2.0/src/dictionary.h  \n",
      "  inflating: fastText-0.2.0/src/fasttext.cc  \n",
      "  inflating: fastText-0.2.0/src/fasttext.h  \n",
      "  inflating: fastText-0.2.0/src/main.cc  \n",
      "  inflating: fastText-0.2.0/src/matrix.cc  \n",
      "  inflating: fastText-0.2.0/src/matrix.h  \n",
      "  inflating: fastText-0.2.0/src/meter.cc  \n",
      "  inflating: fastText-0.2.0/src/meter.h  \n",
      "  inflating: fastText-0.2.0/src/model.cc  \n",
      "  inflating: fastText-0.2.0/src/model.h  \n",
      "  inflating: fastText-0.2.0/src/productquantizer.cc  \n",
      "  inflating: fastText-0.2.0/src/productquantizer.h  \n",
      "  inflating: fastText-0.2.0/src/qmatrix.cc  \n",
      "  inflating: fastText-0.2.0/src/qmatrix.h  \n",
      "  inflating: fastText-0.2.0/src/real.h  \n",
      "  inflating: fastText-0.2.0/src/utils.cc  \n",
      "  inflating: fastText-0.2.0/src/utils.h  \n",
      "  inflating: fastText-0.2.0/src/vector.cc  \n",
      "  inflating: fastText-0.2.0/src/vector.h  \n",
      "   creating: fastText-0.2.0/tests/\n",
      "  inflating: fastText-0.2.0/tests/fetch_test_data.sh  \n",
      "   creating: fastText-0.2.0/website/\n",
      "  inflating: fastText-0.2.0/website/README.md  \n",
      "   creating: fastText-0.2.0/website/blog/\n",
      "  inflating: fastText-0.2.0/website/blog/2016-08-18-blog-post.md  \n",
      "  inflating: fastText-0.2.0/website/blog/2017-05-02-blog-post.md  \n",
      "  inflating: fastText-0.2.0/website/blog/2017-10-02-blog-post.md  \n",
      "   creating: fastText-0.2.0/website/core/\n",
      "  inflating: fastText-0.2.0/website/core/Footer.js  \n",
      "  inflating: fastText-0.2.0/website/package.json  \n",
      "   creating: fastText-0.2.0/website/pages/\n",
      "   creating: fastText-0.2.0/website/pages/en/\n",
      "  inflating: fastText-0.2.0/website/pages/en/index.js  \n",
      "  inflating: fastText-0.2.0/website/sidebars.json  \n",
      "  inflating: fastText-0.2.0/website/siteConfig.js  \n",
      "   creating: fastText-0.2.0/website/static/\n",
      "   creating: fastText-0.2.0/website/static/docs/\n",
      "   creating: fastText-0.2.0/website/static/docs/en/\n",
      "   creating: fastText-0.2.0/website/static/docs/en/html/\n",
      " extracting: fastText-0.2.0/website/static/docs/en/html/.classfasttext_1_1QMatrix-members.html.i4eKqy  \n",
      "  inflating: fastText-0.2.0/website/static/docs/en/html/annotated.html  \n",
      "  inflating: fastText-0.2.0/website/static/docs/en/html/annotated_dup.js  \n",
      "  inflating: fastText-0.2.0/website/static/docs/en/html/args_8cc.html  \n",
      "  inflating: fastText-0.2.0/website/static/docs/en/html/args_8h.html  \n",
      "  inflating: fastText-0.2.0/website/static/docs/en/html/args_8h.js  \n",
      "  inflating: fastText-0.2.0/website/static/docs/en/html/args_8h_source.html  \n",
      " extracting: fastText-0.2.0/website/static/docs/en/html/bc_s.png  \n",
      "  inflating: fastText-0.2.0/website/static/docs/en/html/bdwn.png  \n",
      "  inflating: fastText-0.2.0/website/static/docs/en/html/classes.html  \n",
      "  inflating: fastText-0.2.0/website/static/docs/en/html/classfasttext_1_1Args-members.html  \n",
      "  inflating: fastText-0.2.0/website/static/docs/en/html/classfasttext_1_1Args.html  \n",
      "  inflating: fastText-0.2.0/website/static/docs/en/html/classfasttext_1_1Args.js  \n",
      "  inflating: fastText-0.2.0/website/static/docs/en/html/classfasttext_1_1Dictionary-members.html  \n",
      "  inflating: fastText-0.2.0/website/static/docs/en/html/classfasttext_1_1Dictionary.html  \n",
      "  inflating: fastText-0.2.0/website/static/docs/en/html/classfasttext_1_1Dictionary.js  \n",
      "  inflating: fastText-0.2.0/website/static/docs/en/html/classfasttext_1_1FastText-members.html  \n",
      "  inflating: fastText-0.2.0/website/static/docs/en/html/classfasttext_1_1FastText.html  \n",
      "  inflating: fastText-0.2.0/website/static/docs/en/html/classfasttext_1_1FastText.js  \n",
      "  inflating: fastText-0.2.0/website/static/docs/en/html/classfasttext_1_1Matrix-members.html  \n",
      "  inflating: fastText-0.2.0/website/static/docs/en/html/classfasttext_1_1Matrix.html  \n",
      "  inflating: fastText-0.2.0/website/static/docs/en/html/classfasttext_1_1Matrix.js  \n",
      "  inflating: fastText-0.2.0/website/static/docs/en/html/classfasttext_1_1Model-members.html  \n",
      "  inflating: fastText-0.2.0/website/static/docs/en/html/classfasttext_1_1Model.html  \n",
      "  inflating: fastText-0.2.0/website/static/docs/en/html/classfasttext_1_1Model.js  \n",
      "  inflating: fastText-0.2.0/website/static/docs/en/html/classfasttext_1_1ProductQuantizer-members.html  \n",
      "  inflating: fastText-0.2.0/website/static/docs/en/html/classfasttext_1_1ProductQuantizer.html  \n",
      "  inflating: fastText-0.2.0/website/static/docs/en/html/classfasttext_1_1ProductQuantizer.js  \n",
      "  inflating: fastText-0.2.0/website/static/docs/en/html/classfasttext_1_1QMatrix-members.html  \n",
      "  inflating: fastText-0.2.0/website/static/docs/en/html/classfasttext_1_1QMatrix.html  \n",
      "  inflating: fastText-0.2.0/website/static/docs/en/html/classfasttext_1_1QMatrix.js  \n",
      "  inflating: fastText-0.2.0/website/static/docs/en/html/classfasttext_1_1Vector-members.html  \n",
      "  inflating: fastText-0.2.0/website/static/docs/en/html/classfasttext_1_1Vector.html  \n",
      "  inflating: fastText-0.2.0/website/static/docs/en/html/classfasttext_1_1Vector.js  \n",
      "  inflating: fastText-0.2.0/website/static/docs/en/html/closed.png  \n",
      "  inflating: fastText-0.2.0/website/static/docs/en/html/dictionary_8cc.html  \n",
      "  inflating: fastText-0.2.0/website/static/docs/en/html/dictionary_8h.html  \n",
      "  inflating: fastText-0.2.0/website/static/docs/en/html/dictionary_8h.js  \n",
      "  inflating: fastText-0.2.0/website/static/docs/en/html/dictionary_8h_source.html  \n",
      "  inflating: fastText-0.2.0/website/static/docs/en/html/dir_68267d1309a1af8e8297ef4c3efbcdba.html  \n",
      "  inflating: fastText-0.2.0/website/static/docs/en/html/dir_68267d1309a1af8e8297ef4c3efbcdba.js  \n",
      " extracting: fastText-0.2.0/website/static/docs/en/html/doc.png  \n",
      "  inflating: fastText-0.2.0/website/static/docs/en/html/doxygen.css  \n",
      " extracting: fastText-0.2.0/website/static/docs/en/html/doxygen.png  \n",
      "  inflating: fastText-0.2.0/website/static/docs/en/html/dynsections.js  \n",
      "  inflating: fastText-0.2.0/website/static/docs/en/html/fasttext_8cc.html  \n",
      "  inflating: fastText-0.2.0/website/static/docs/en/html/fasttext_8h.html  \n",
      "  inflating: fastText-0.2.0/website/static/docs/en/html/fasttext_8h.js  \n",
      "  inflating: fastText-0.2.0/website/static/docs/en/html/fasttext_8h_source.html  \n",
      "  inflating: fastText-0.2.0/website/static/docs/en/html/favicon.png  \n",
      "  inflating: fastText-0.2.0/website/static/docs/en/html/files.html  \n",
      "  inflating: fastText-0.2.0/website/static/docs/en/html/files.js  \n",
      " extracting: fastText-0.2.0/website/static/docs/en/html/folderclosed.png  \n",
      " extracting: fastText-0.2.0/website/static/docs/en/html/folderopen.png  \n",
      "  inflating: fastText-0.2.0/website/static/docs/en/html/functions.html  \n",
      "  inflating: fastText-0.2.0/website/static/docs/en/html/functions_0x7e.html  \n",
      "  inflating: fastText-0.2.0/website/static/docs/en/html/functions_b.html  \n",
      "  inflating: fastText-0.2.0/website/static/docs/en/html/functions_c.html  \n",
      "  inflating: fastText-0.2.0/website/static/docs/en/html/functions_d.html  \n",
      "  inflating: fastText-0.2.0/website/static/docs/en/html/functions_dup.js  \n",
      "  inflating: fastText-0.2.0/website/static/docs/en/html/functions_e.html  \n",
      "  inflating: fastText-0.2.0/website/static/docs/en/html/functions_f.html  \n",
      "  inflating: fastText-0.2.0/website/static/docs/en/html/functions_func.html  \n",
      "  inflating: fastText-0.2.0/website/static/docs/en/html/functions_g.html  \n",
      "  inflating: fastText-0.2.0/website/static/docs/en/html/functions_h.html  \n",
      "  inflating: fastText-0.2.0/website/static/docs/en/html/functions_i.html  \n",
      "  inflating: fastText-0.2.0/website/static/docs/en/html/functions_k.html  \n",
      "  inflating: fastText-0.2.0/website/static/docs/en/html/functions_l.html  \n",
      "  inflating: fastText-0.2.0/website/static/docs/en/html/functions_m.html  \n",
      "  inflating: fastText-0.2.0/website/static/docs/en/html/functions_n.html  \n",
      "  inflating: fastText-0.2.0/website/static/docs/en/html/functions_o.html  \n",
      "  inflating: fastText-0.2.0/website/static/docs/en/html/functions_p.html  \n",
      "  inflating: fastText-0.2.0/website/static/docs/en/html/functions_q.html  \n",
      "  inflating: fastText-0.2.0/website/static/docs/en/html/functions_r.html  \n",
      "  inflating: fastText-0.2.0/website/static/docs/en/html/functions_s.html  \n",
      "  inflating: fastText-0.2.0/website/static/docs/en/html/functions_t.html  \n",
      "  inflating: fastText-0.2.0/website/static/docs/en/html/functions_u.html  \n",
      "  inflating: fastText-0.2.0/website/static/docs/en/html/functions_v.html  \n",
      "  inflating: fastText-0.2.0/website/static/docs/en/html/functions_vars.html  \n",
      "  inflating: fastText-0.2.0/website/static/docs/en/html/functions_w.html  \n",
      "  inflating: fastText-0.2.0/website/static/docs/en/html/functions_z.html  \n",
      "  inflating: fastText-0.2.0/website/static/docs/en/html/globals.html  \n",
      "  inflating: fastText-0.2.0/website/static/docs/en/html/globals_defs.html  \n",
      "  inflating: fastText-0.2.0/website/static/docs/en/html/globals_func.html  \n",
      "  inflating: fastText-0.2.0/website/static/docs/en/html/index.html  \n",
      "  inflating: fastText-0.2.0/website/static/docs/en/html/jquery.js  \n",
      "  inflating: fastText-0.2.0/website/static/docs/en/html/main_8cc.html  \n",
      "  inflating: fastText-0.2.0/website/static/docs/en/html/main_8cc.js  \n",
      "  inflating: fastText-0.2.0/website/static/docs/en/html/matrix_8cc.html  \n",
      "  inflating: fastText-0.2.0/website/static/docs/en/html/matrix_8h.html  \n",
      "  inflating: fastText-0.2.0/website/static/docs/en/html/matrix_8h_source.html  \n",
      "  inflating: fastText-0.2.0/website/static/docs/en/html/menu.js  \n",
      "  inflating: fastText-0.2.0/website/static/docs/en/html/menudata.js  \n",
      "  inflating: fastText-0.2.0/website/static/docs/en/html/model_8cc.html  \n",
      "  inflating: fastText-0.2.0/website/static/docs/en/html/model_8h.html  \n",
      "  inflating: fastText-0.2.0/website/static/docs/en/html/model_8h.js  \n",
      "  inflating: fastText-0.2.0/website/static/docs/en/html/model_8h_source.html  \n",
      "  inflating: fastText-0.2.0/website/static/docs/en/html/namespacefasttext.html  \n",
      "  inflating: fastText-0.2.0/website/static/docs/en/html/namespacefasttext.js  \n",
      "  inflating: fastText-0.2.0/website/static/docs/en/html/namespacefasttext_1_1utils.html  \n",
      "  inflating: fastText-0.2.0/website/static/docs/en/html/namespacemembers.html  \n",
      "  inflating: fastText-0.2.0/website/static/docs/en/html/namespacemembers_enum.html  \n",
      "  inflating: fastText-0.2.0/website/static/docs/en/html/namespacemembers_func.html  \n",
      "  inflating: fastText-0.2.0/website/static/docs/en/html/namespacemembers_type.html  \n",
      "  inflating: fastText-0.2.0/website/static/docs/en/html/namespaces.html  \n",
      "  inflating: fastText-0.2.0/website/static/docs/en/html/namespaces.js  \n",
      " extracting: fastText-0.2.0/website/static/docs/en/html/nav_f.png  \n",
      "  inflating: fastText-0.2.0/website/static/docs/en/html/nav_g.png  \n",
      "  inflating: fastText-0.2.0/website/static/docs/en/html/nav_h.png  \n",
      "  inflating: fastText-0.2.0/website/static/docs/en/html/navtree.css  \n",
      "  inflating: fastText-0.2.0/website/static/docs/en/html/navtree.js  \n",
      "  inflating: fastText-0.2.0/website/static/docs/en/html/navtreedata.js  \n",
      "  inflating: fastText-0.2.0/website/static/docs/en/html/navtreeindex0.js  \n",
      "  inflating: fastText-0.2.0/website/static/docs/en/html/navtreeindex1.js  \n",
      "  inflating: fastText-0.2.0/website/static/docs/en/html/open.png  \n",
      "  inflating: fastText-0.2.0/website/static/docs/en/html/productquantizer_8cc.html  \n",
      "  inflating: fastText-0.2.0/website/static/docs/en/html/productquantizer_8cc.js  \n",
      "  inflating: fastText-0.2.0/website/static/docs/en/html/productquantizer_8h.html  \n",
      "  inflating: fastText-0.2.0/website/static/docs/en/html/productquantizer_8h_source.html  \n",
      "  inflating: fastText-0.2.0/website/static/docs/en/html/qmatrix_8cc.html  \n",
      "  inflating: fastText-0.2.0/website/static/docs/en/html/qmatrix_8h.html  \n",
      "  inflating: fastText-0.2.0/website/static/docs/en/html/qmatrix_8h_source.html  \n",
      "  inflating: fastText-0.2.0/website/static/docs/en/html/real_8h.html  \n",
      "  inflating: fastText-0.2.0/website/static/docs/en/html/real_8h.js  \n",
      "  inflating: fastText-0.2.0/website/static/docs/en/html/real_8h_source.html  \n",
      "  inflating: fastText-0.2.0/website/static/docs/en/html/resize.js  \n",
      "   creating: fastText-0.2.0/website/static/docs/en/html/search/\n",
      " extracting: fastText-0.2.0/website/static/docs/en/html/search/.files_7.html.StRRNc  \n",
      " extracting: fastText-0.2.0/website/static/docs/en/html/search/.variables_a.html.1MGQ27  \n",
      "  inflating: fastText-0.2.0/website/static/docs/en/html/search/all_0.html  \n",
      "  inflating: fastText-0.2.0/website/static/docs/en/html/search/all_0.js  \n",
      "  inflating: fastText-0.2.0/website/static/docs/en/html/search/all_1.html  \n",
      "  inflating: fastText-0.2.0/website/static/docs/en/html/search/all_1.js  \n",
      "  inflating: fastText-0.2.0/website/static/docs/en/html/search/all_10.html  \n",
      "  inflating: fastText-0.2.0/website/static/docs/en/html/search/all_10.js  \n",
      "  inflating: fastText-0.2.0/website/static/docs/en/html/search/all_11.html  \n",
      "  inflating: fastText-0.2.0/website/static/docs/en/html/search/all_11.js  \n",
      "  inflating: fastText-0.2.0/website/static/docs/en/html/search/all_12.html  \n",
      "  inflating: fastText-0.2.0/website/static/docs/en/html/search/all_12.js  \n",
      "  inflating: fastText-0.2.0/website/static/docs/en/html/search/all_13.html  \n",
      "  inflating: fastText-0.2.0/website/static/docs/en/html/search/all_13.js  \n",
      "  inflating: fastText-0.2.0/website/static/docs/en/html/search/all_14.html  \n",
      "  inflating: fastText-0.2.0/website/static/docs/en/html/search/all_14.js  \n",
      "  inflating: fastText-0.2.0/website/static/docs/en/html/search/all_15.html  \n",
      "  inflating: fastText-0.2.0/website/static/docs/en/html/search/all_15.js  \n",
      "  inflating: fastText-0.2.0/website/static/docs/en/html/search/all_16.html  \n",
      "  inflating: fastText-0.2.0/website/static/docs/en/html/search/all_16.js  \n",
      "  inflating: fastText-0.2.0/website/static/docs/en/html/search/all_17.html  \n",
      "  inflating: fastText-0.2.0/website/static/docs/en/html/search/all_17.js  \n",
      "  inflating: fastText-0.2.0/website/static/docs/en/html/search/all_2.html  \n",
      "  inflating: fastText-0.2.0/website/static/docs/en/html/search/all_2.js  \n",
      "  inflating: fastText-0.2.0/website/static/docs/en/html/search/all_3.html  \n",
      "  inflating: fastText-0.2.0/website/static/docs/en/html/search/all_3.js  \n",
      "  inflating: fastText-0.2.0/website/static/docs/en/html/search/all_4.html  \n",
      "  inflating: fastText-0.2.0/website/static/docs/en/html/search/all_4.js  \n",
      "  inflating: fastText-0.2.0/website/static/docs/en/html/search/all_5.html  \n",
      "  inflating: fastText-0.2.0/website/static/docs/en/html/search/all_5.js  \n",
      "  inflating: fastText-0.2.0/website/static/docs/en/html/search/all_6.html  \n",
      "  inflating: fastText-0.2.0/website/static/docs/en/html/search/all_6.js  \n",
      "  inflating: fastText-0.2.0/website/static/docs/en/html/search/all_7.html  \n",
      "  inflating: fastText-0.2.0/website/static/docs/en/html/search/all_7.js  \n",
      "  inflating: fastText-0.2.0/website/static/docs/en/html/search/all_8.html  \n",
      "  inflating: fastText-0.2.0/website/static/docs/en/html/search/all_8.js  \n",
      "  inflating: fastText-0.2.0/website/static/docs/en/html/search/all_9.html  \n",
      "  inflating: fastText-0.2.0/website/static/docs/en/html/search/all_9.js  \n",
      "  inflating: fastText-0.2.0/website/static/docs/en/html/search/all_a.html  \n",
      "  inflating: fastText-0.2.0/website/static/docs/en/html/search/all_a.js  \n",
      "  inflating: fastText-0.2.0/website/static/docs/en/html/search/all_b.html  \n",
      "  inflating: fastText-0.2.0/website/static/docs/en/html/search/all_b.js  \n",
      "  inflating: fastText-0.2.0/website/static/docs/en/html/search/all_c.html  \n",
      "  inflating: fastText-0.2.0/website/static/docs/en/html/search/all_c.js  \n",
      "  inflating: fastText-0.2.0/website/static/docs/en/html/search/all_d.html  \n",
      "  inflating: fastText-0.2.0/website/static/docs/en/html/search/all_d.js  \n",
      "  inflating: fastText-0.2.0/website/static/docs/en/html/search/all_e.html  \n",
      "  inflating: fastText-0.2.0/website/static/docs/en/html/search/all_e.js  \n",
      "  inflating: fastText-0.2.0/website/static/docs/en/html/search/all_f.html  \n",
      "  inflating: fastText-0.2.0/website/static/docs/en/html/search/all_f.js  \n",
      "  inflating: fastText-0.2.0/website/static/docs/en/html/search/classes_0.html  \n",
      "  inflating: fastText-0.2.0/website/static/docs/en/html/search/classes_0.js  \n",
      "  inflating: fastText-0.2.0/website/static/docs/en/html/search/classes_1.html  \n",
      "  inflating: fastText-0.2.0/website/static/docs/en/html/search/classes_1.js  \n",
      "  inflating: fastText-0.2.0/website/static/docs/en/html/search/classes_2.html  \n",
      "  inflating: fastText-0.2.0/website/static/docs/en/html/search/classes_2.js  \n",
      "  inflating: fastText-0.2.0/website/static/docs/en/html/search/classes_3.html  \n",
      "  inflating: fastText-0.2.0/website/static/docs/en/html/search/classes_3.js  \n",
      "  inflating: fastText-0.2.0/website/static/docs/en/html/search/classes_4.html  \n",
      "  inflating: fastText-0.2.0/website/static/docs/en/html/search/classes_4.js  \n",
      "  inflating: fastText-0.2.0/website/static/docs/en/html/search/classes_5.html  \n",
      "  inflating: fastText-0.2.0/website/static/docs/en/html/search/classes_5.js  \n",
      "  inflating: fastText-0.2.0/website/static/docs/en/html/search/classes_6.html  \n",
      "  inflating: fastText-0.2.0/website/static/docs/en/html/search/classes_6.js  \n",
      "  inflating: fastText-0.2.0/website/static/docs/en/html/search/classes_7.html  \n",
      "  inflating: fastText-0.2.0/website/static/docs/en/html/search/classes_7.js  \n",
      "  inflating: fastText-0.2.0/website/static/docs/en/html/search/classes_8.html  \n",
      "  inflating: fastText-0.2.0/website/static/docs/en/html/search/classes_8.js  \n",
      " extracting: fastText-0.2.0/website/static/docs/en/html/search/close.png  \n",
      "  inflating: fastText-0.2.0/website/static/docs/en/html/search/defines_0.html  \n",
      "  inflating: fastText-0.2.0/website/static/docs/en/html/search/defines_0.js  \n",
      "  inflating: fastText-0.2.0/website/static/docs/en/html/search/defines_1.html  \n",
      "  inflating: fastText-0.2.0/website/static/docs/en/html/search/defines_1.js  \n",
      "  inflating: fastText-0.2.0/website/static/docs/en/html/search/defines_2.html  \n",
      "  inflating: fastText-0.2.0/website/static/docs/en/html/search/defines_2.js  \n",
      "  inflating: fastText-0.2.0/website/static/docs/en/html/search/defines_3.html  \n",
      "  inflating: fastText-0.2.0/website/static/docs/en/html/search/defines_3.js  \n",
      "  inflating: fastText-0.2.0/website/static/docs/en/html/search/enums_0.html  \n",
      "  inflating: fastText-0.2.0/website/static/docs/en/html/search/enums_0.js  \n",
      "  inflating: fastText-0.2.0/website/static/docs/en/html/search/enums_1.html  \n",
      "  inflating: fastText-0.2.0/website/static/docs/en/html/search/enums_1.js  \n",
      "  inflating: fastText-0.2.0/website/static/docs/en/html/search/enums_2.html  \n",
      "  inflating: fastText-0.2.0/website/static/docs/en/html/search/enums_2.js  \n",
      "  inflating: fastText-0.2.0/website/static/docs/en/html/search/enumvalues_0.html  \n",
      "  inflating: fastText-0.2.0/website/static/docs/en/html/search/enumvalues_0.js  \n",
      "  inflating: fastText-0.2.0/website/static/docs/en/html/search/enumvalues_1.html  \n",
      "  inflating: fastText-0.2.0/website/static/docs/en/html/search/enumvalues_1.js  \n",
      "  inflating: fastText-0.2.0/website/static/docs/en/html/search/enumvalues_2.html  \n",
      "  inflating: fastText-0.2.0/website/static/docs/en/html/search/enumvalues_2.js  \n",
      "  inflating: fastText-0.2.0/website/static/docs/en/html/search/enumvalues_3.html  \n",
      "  inflating: fastText-0.2.0/website/static/docs/en/html/search/enumvalues_3.js  \n",
      "  inflating: fastText-0.2.0/website/static/docs/en/html/search/enumvalues_4.html  \n",
      "  inflating: fastText-0.2.0/website/static/docs/en/html/search/enumvalues_4.js  \n",
      "  inflating: fastText-0.2.0/website/static/docs/en/html/search/enumvalues_5.html  \n",
      "  inflating: fastText-0.2.0/website/static/docs/en/html/search/enumvalues_5.js  \n",
      "  inflating: fastText-0.2.0/website/static/docs/en/html/search/files_0.html  \n",
      "  inflating: fastText-0.2.0/website/static/docs/en/html/search/files_0.js  \n",
      "  inflating: fastText-0.2.0/website/static/docs/en/html/search/files_1.html  \n",
      "  inflating: fastText-0.2.0/website/static/docs/en/html/search/files_1.js  \n",
      "  inflating: fastText-0.2.0/website/static/docs/en/html/search/files_2.html  \n",
      "  inflating: fastText-0.2.0/website/static/docs/en/html/search/files_2.js  \n",
      "  inflating: fastText-0.2.0/website/static/docs/en/html/search/files_3.html  \n",
      "  inflating: fastText-0.2.0/website/static/docs/en/html/search/files_3.js  \n",
      "  inflating: fastText-0.2.0/website/static/docs/en/html/search/files_4.html  \n",
      "  inflating: fastText-0.2.0/website/static/docs/en/html/search/files_4.js  \n",
      "  inflating: fastText-0.2.0/website/static/docs/en/html/search/files_5.html  \n",
      "  inflating: fastText-0.2.0/website/static/docs/en/html/search/files_5.js  \n",
      "  inflating: fastText-0.2.0/website/static/docs/en/html/search/files_6.html  \n",
      "  inflating: fastText-0.2.0/website/static/docs/en/html/search/files_6.js  \n",
      "  inflating: fastText-0.2.0/website/static/docs/en/html/search/files_7.html  \n",
      "  inflating: fastText-0.2.0/website/static/docs/en/html/search/files_7.js  \n",
      "  inflating: fastText-0.2.0/website/static/docs/en/html/search/files_8.html  \n",
      "  inflating: fastText-0.2.0/website/static/docs/en/html/search/files_8.js  \n",
      "  inflating: fastText-0.2.0/website/static/docs/en/html/search/functions_0.html  \n",
      "  inflating: fastText-0.2.0/website/static/docs/en/html/search/functions_0.js  \n",
      "  inflating: fastText-0.2.0/website/static/docs/en/html/search/functions_1.html  \n",
      "  inflating: fastText-0.2.0/website/static/docs/en/html/search/functions_1.js  \n",
      "  inflating: fastText-0.2.0/website/static/docs/en/html/search/functions_10.html  \n",
      "  inflating: fastText-0.2.0/website/static/docs/en/html/search/functions_10.js  \n",
      "  inflating: fastText-0.2.0/website/static/docs/en/html/search/functions_11.html  \n",
      "  inflating: fastText-0.2.0/website/static/docs/en/html/search/functions_11.js  \n",
      "  inflating: fastText-0.2.0/website/static/docs/en/html/search/functions_12.html  \n",
      "  inflating: fastText-0.2.0/website/static/docs/en/html/search/functions_12.js  \n",
      "  inflating: fastText-0.2.0/website/static/docs/en/html/search/functions_13.html  \n",
      "  inflating: fastText-0.2.0/website/static/docs/en/html/search/functions_13.js  \n",
      "  inflating: fastText-0.2.0/website/static/docs/en/html/search/functions_14.html  \n",
      "  inflating: fastText-0.2.0/website/static/docs/en/html/search/functions_14.js  \n",
      "  inflating: fastText-0.2.0/website/static/docs/en/html/search/functions_15.html  \n",
      "  inflating: fastText-0.2.0/website/static/docs/en/html/search/functions_15.js  \n",
      "  inflating: fastText-0.2.0/website/static/docs/en/html/search/functions_16.html  \n",
      "  inflating: fastText-0.2.0/website/static/docs/en/html/search/functions_16.js  \n",
      "  inflating: fastText-0.2.0/website/static/docs/en/html/search/functions_17.html  \n",
      "  inflating: fastText-0.2.0/website/static/docs/en/html/search/functions_17.js  \n",
      "  inflating: fastText-0.2.0/website/static/docs/en/html/search/functions_2.html  \n",
      "  inflating: fastText-0.2.0/website/static/docs/en/html/search/functions_2.js  \n",
      "  inflating: fastText-0.2.0/website/static/docs/en/html/search/functions_3.html  \n",
      "  inflating: fastText-0.2.0/website/static/docs/en/html/search/functions_3.js  \n",
      "  inflating: fastText-0.2.0/website/static/docs/en/html/search/functions_4.html  \n",
      "  inflating: fastText-0.2.0/website/static/docs/en/html/search/functions_4.js  \n",
      "  inflating: fastText-0.2.0/website/static/docs/en/html/search/functions_5.html  \n",
      "  inflating: fastText-0.2.0/website/static/docs/en/html/search/functions_5.js  \n",
      "  inflating: fastText-0.2.0/website/static/docs/en/html/search/functions_6.html  \n",
      "  inflating: fastText-0.2.0/website/static/docs/en/html/search/functions_6.js  \n",
      "  inflating: fastText-0.2.0/website/static/docs/en/html/search/functions_7.html  \n",
      "  inflating: fastText-0.2.0/website/static/docs/en/html/search/functions_7.js  \n",
      "  inflating: fastText-0.2.0/website/static/docs/en/html/search/functions_8.html  \n",
      "  inflating: fastText-0.2.0/website/static/docs/en/html/search/functions_8.js  \n",
      "  inflating: fastText-0.2.0/website/static/docs/en/html/search/functions_9.html  \n",
      "  inflating: fastText-0.2.0/website/static/docs/en/html/search/functions_9.js  \n",
      "  inflating: fastText-0.2.0/website/static/docs/en/html/search/functions_a.html  \n",
      "  inflating: fastText-0.2.0/website/static/docs/en/html/search/functions_a.js  \n",
      "  inflating: fastText-0.2.0/website/static/docs/en/html/search/functions_b.html  \n",
      "  inflating: fastText-0.2.0/website/static/docs/en/html/search/functions_b.js  \n",
      "  inflating: fastText-0.2.0/website/static/docs/en/html/search/functions_c.html  \n",
      "  inflating: fastText-0.2.0/website/static/docs/en/html/search/functions_c.js  \n",
      "  inflating: fastText-0.2.0/website/static/docs/en/html/search/functions_d.html  \n",
      "  inflating: fastText-0.2.0/website/static/docs/en/html/search/functions_d.js  \n",
      "  inflating: fastText-0.2.0/website/static/docs/en/html/search/functions_e.html  \n",
      "  inflating: fastText-0.2.0/website/static/docs/en/html/search/functions_e.js  \n",
      "  inflating: fastText-0.2.0/website/static/docs/en/html/search/functions_f.html  \n",
      "  inflating: fastText-0.2.0/website/static/docs/en/html/search/functions_f.js  \n",
      " extracting: fastText-0.2.0/website/static/docs/en/html/search/mag_sel.png  \n",
      "  inflating: fastText-0.2.0/website/static/docs/en/html/search/namespaces_0.html  \n",
      "  inflating: fastText-0.2.0/website/static/docs/en/html/search/namespaces_0.js  \n",
      "  inflating: fastText-0.2.0/website/static/docs/en/html/search/nomatches.html  \n",
      "  inflating: fastText-0.2.0/website/static/docs/en/html/search/search.css  \n",
      "  inflating: fastText-0.2.0/website/static/docs/en/html/search/search.js  \n",
      " extracting: fastText-0.2.0/website/static/docs/en/html/search/search_l.png  \n",
      "  inflating: fastText-0.2.0/website/static/docs/en/html/search/search_m.png  \n",
      " extracting: fastText-0.2.0/website/static/docs/en/html/search/search_r.png  \n",
      "  inflating: fastText-0.2.0/website/static/docs/en/html/search/searchdata.js  \n",
      "  inflating: fastText-0.2.0/website/static/docs/en/html/search/typedefs_0.html  \n",
      "  inflating: fastText-0.2.0/website/static/docs/en/html/search/typedefs_0.js  \n",
      "  inflating: fastText-0.2.0/website/static/docs/en/html/search/typedefs_1.html  \n",
      "  inflating: fastText-0.2.0/website/static/docs/en/html/search/typedefs_1.js  \n",
      "  inflating: fastText-0.2.0/website/static/docs/en/html/search/variables_0.html  \n",
      "  inflating: fastText-0.2.0/website/static/docs/en/html/search/variables_0.js  \n",
      "  inflating: fastText-0.2.0/website/static/docs/en/html/search/variables_1.html  \n",
      "  inflating: fastText-0.2.0/website/static/docs/en/html/search/variables_1.js  \n",
      "  inflating: fastText-0.2.0/website/static/docs/en/html/search/variables_10.html  \n",
      "  inflating: fastText-0.2.0/website/static/docs/en/html/search/variables_10.js  \n",
      "  inflating: fastText-0.2.0/website/static/docs/en/html/search/variables_11.html  \n",
      "  inflating: fastText-0.2.0/website/static/docs/en/html/search/variables_11.js  \n",
      "  inflating: fastText-0.2.0/website/static/docs/en/html/search/variables_12.html  \n",
      "  inflating: fastText-0.2.0/website/static/docs/en/html/search/variables_12.js  \n",
      "  inflating: fastText-0.2.0/website/static/docs/en/html/search/variables_13.html  \n",
      "  inflating: fastText-0.2.0/website/static/docs/en/html/search/variables_13.js  \n",
      "  inflating: fastText-0.2.0/website/static/docs/en/html/search/variables_2.html  \n",
      "  inflating: fastText-0.2.0/website/static/docs/en/html/search/variables_2.js  \n",
      "  inflating: fastText-0.2.0/website/static/docs/en/html/search/variables_3.html  \n",
      "  inflating: fastText-0.2.0/website/static/docs/en/html/search/variables_3.js  \n",
      "  inflating: fastText-0.2.0/website/static/docs/en/html/search/variables_4.html  \n",
      "  inflating: fastText-0.2.0/website/static/docs/en/html/search/variables_4.js  \n",
      "  inflating: fastText-0.2.0/website/static/docs/en/html/search/variables_5.html  \n",
      "  inflating: fastText-0.2.0/website/static/docs/en/html/search/variables_5.js  \n",
      "  inflating: fastText-0.2.0/website/static/docs/en/html/search/variables_6.html  \n",
      "  inflating: fastText-0.2.0/website/static/docs/en/html/search/variables_6.js  \n",
      "  inflating: fastText-0.2.0/website/static/docs/en/html/search/variables_7.html  \n",
      "  inflating: fastText-0.2.0/website/static/docs/en/html/search/variables_7.js  \n",
      "  inflating: fastText-0.2.0/website/static/docs/en/html/search/variables_8.html  \n",
      "  inflating: fastText-0.2.0/website/static/docs/en/html/search/variables_8.js  \n",
      "  inflating: fastText-0.2.0/website/static/docs/en/html/search/variables_9.html  \n",
      "  inflating: fastText-0.2.0/website/static/docs/en/html/search/variables_9.js  \n",
      "  inflating: fastText-0.2.0/website/static/docs/en/html/search/variables_a.html  \n",
      "  inflating: fastText-0.2.0/website/static/docs/en/html/search/variables_a.js  \n",
      "  inflating: fastText-0.2.0/website/static/docs/en/html/search/variables_b.html  \n",
      "  inflating: fastText-0.2.0/website/static/docs/en/html/search/variables_b.js  \n",
      "  inflating: fastText-0.2.0/website/static/docs/en/html/search/variables_c.html  \n",
      "  inflating: fastText-0.2.0/website/static/docs/en/html/search/variables_c.js  \n",
      "  inflating: fastText-0.2.0/website/static/docs/en/html/search/variables_d.html  \n",
      "  inflating: fastText-0.2.0/website/static/docs/en/html/search/variables_d.js  \n",
      "  inflating: fastText-0.2.0/website/static/docs/en/html/search/variables_e.html  \n",
      "  inflating: fastText-0.2.0/website/static/docs/en/html/search/variables_e.js  \n",
      "  inflating: fastText-0.2.0/website/static/docs/en/html/search/variables_f.html  \n",
      "  inflating: fastText-0.2.0/website/static/docs/en/html/search/variables_f.js  \n",
      "  inflating: fastText-0.2.0/website/static/docs/en/html/splitbar.png  \n",
      "  inflating: fastText-0.2.0/website/static/docs/en/html/structfasttext_1_1Node-members.html  \n",
      "  inflating: fastText-0.2.0/website/static/docs/en/html/structfasttext_1_1Node.html  \n",
      "  inflating: fastText-0.2.0/website/static/docs/en/html/structfasttext_1_1Node.js  \n",
      "  inflating: fastText-0.2.0/website/static/docs/en/html/structfasttext_1_1entry-members.html  \n",
      "  inflating: fastText-0.2.0/website/static/docs/en/html/structfasttext_1_1entry.html  \n",
      "  inflating: fastText-0.2.0/website/static/docs/en/html/structfasttext_1_1entry.js  \n",
      " extracting: fastText-0.2.0/website/static/docs/en/html/sync_off.png  \n",
      " extracting: fastText-0.2.0/website/static/docs/en/html/sync_on.png  \n",
      " extracting: fastText-0.2.0/website/static/docs/en/html/tab_a.png  \n",
      " extracting: fastText-0.2.0/website/static/docs/en/html/tab_b.png  \n",
      " extracting: fastText-0.2.0/website/static/docs/en/html/tab_h.png  \n",
      " extracting: fastText-0.2.0/website/static/docs/en/html/tab_s.png  \n",
      "  inflating: fastText-0.2.0/website/static/docs/en/html/tabs.css  \n",
      "  inflating: fastText-0.2.0/website/static/docs/en/html/utils_8cc.html  \n",
      "  inflating: fastText-0.2.0/website/static/docs/en/html/utils_8cc.js  \n",
      "  inflating: fastText-0.2.0/website/static/docs/en/html/utils_8h.html  \n",
      "  inflating: fastText-0.2.0/website/static/docs/en/html/utils_8h.js  \n",
      "  inflating: fastText-0.2.0/website/static/docs/en/html/utils_8h_source.html  \n",
      "  inflating: fastText-0.2.0/website/static/docs/en/html/vector_8cc.html  \n",
      "  inflating: fastText-0.2.0/website/static/docs/en/html/vector_8cc.js  \n",
      "  inflating: fastText-0.2.0/website/static/docs/en/html/vector_8h.html  \n",
      "  inflating: fastText-0.2.0/website/static/docs/en/html/vector_8h.js  \n",
      "  inflating: fastText-0.2.0/website/static/docs/en/html/vector_8h_source.html  \n",
      "  inflating: fastText-0.2.0/website/static/fasttext.css  \n",
      "   creating: fastText-0.2.0/website/static/img/\n",
      "   creating: fastText-0.2.0/website/static/img/authors/\n",
      "  inflating: fastText-0.2.0/website/static/img/authors/armand_joulin.jpg  \n",
      "  inflating: fastText-0.2.0/website/static/img/authors/christian_puhrsch.png  \n",
      "  inflating: fastText-0.2.0/website/static/img/authors/edouard_grave.jpeg  \n",
      "  inflating: fastText-0.2.0/website/static/img/authors/piotr_bojanowski.jpg  \n",
      "  inflating: fastText-0.2.0/website/static/img/authors/tomas_mikolov.jpg  \n",
      "   creating: fastText-0.2.0/website/static/img/blog/\n",
      "  inflating: fastText-0.2.0/website/static/img/blog/2016-08-18-blog-post-img1.png  \n",
      "  inflating: fastText-0.2.0/website/static/img/blog/2016-08-18-blog-post-img2.png  \n",
      "  inflating: fastText-0.2.0/website/static/img/blog/2017-05-02-blog-post-img1.jpg  \n",
      "  inflating: fastText-0.2.0/website/static/img/blog/2017-05-02-blog-post-img2.jpg  \n",
      "  inflating: fastText-0.2.0/website/static/img/blog/2017-10-02-blog-post-img1.png  \n",
      "  inflating: fastText-0.2.0/website/static/img/cbo_vs_skipgram.png  \n",
      "  inflating: fastText-0.2.0/website/static/img/fasttext-icon-api.png  \n",
      "  inflating: fastText-0.2.0/website/static/img/fasttext-icon-bg-web.png  \n",
      "  inflating: fastText-0.2.0/website/static/img/fasttext-icon-color-square.png  \n",
      "  inflating: fastText-0.2.0/website/static/img/fasttext-icon-color-web.png  \n",
      "  inflating: fastText-0.2.0/website/static/img/fasttext-icon-faq.png  \n",
      "  inflating: fastText-0.2.0/website/static/img/fasttext-icon-tutorial.png  \n",
      "  inflating: fastText-0.2.0/website/static/img/fasttext-icon-white-web.png  \n",
      "  inflating: fastText-0.2.0/website/static/img/fasttext-logo-color-web.png  \n",
      "  inflating: fastText-0.2.0/website/static/img/fasttext-logo-white-web.png  \n",
      "  inflating: fastText-0.2.0/website/static/img/logo-color.png  \n",
      "  inflating: fastText-0.2.0/website/static/img/model-black.png  \n",
      "  inflating: fastText-0.2.0/website/static/img/model-blue.png  \n",
      "  inflating: fastText-0.2.0/website/static/img/model-red.png  \n",
      "  inflating: fastText-0.2.0/website/static/img/ogimage.png  \n",
      "  inflating: fastText-0.2.0/website/static/img/oss_logo.png  \n",
      "  inflating: fastText-0.2.0/wikifil.pl  \n",
      "  inflating: fastText-0.2.0/word-vector-example.sh  \n",
      "/content/drive/My Drive/Colab Notebooks/fastText-0.2.0\n",
      "c++ -pthread -std=c++0x -march=native -O3 -funroll-loops -c src/args.cc\n",
      "c++ -pthread -std=c++0x -march=native -O3 -funroll-loops -c src/dictionary.cc\n",
      "c++ -pthread -std=c++0x -march=native -O3 -funroll-loops -c src/productquantizer.cc\n",
      "c++ -pthread -std=c++0x -march=native -O3 -funroll-loops -c src/matrix.cc\n",
      "c++ -pthread -std=c++0x -march=native -O3 -funroll-loops -c src/qmatrix.cc\n",
      "c++ -pthread -std=c++0x -march=native -O3 -funroll-loops -c src/vector.cc\n",
      "c++ -pthread -std=c++0x -march=native -O3 -funroll-loops -c src/model.cc\n",
      "c++ -pthread -std=c++0x -march=native -O3 -funroll-loops -c src/utils.cc\n",
      "c++ -pthread -std=c++0x -march=native -O3 -funroll-loops -c src/meter.cc\n",
      "c++ -pthread -std=c++0x -march=native -O3 -funroll-loops -c src/fasttext.cc\n",
      "\u001b[01m\u001b[Ksrc/fasttext.cc:\u001b[m\u001b[K In member function ‘\u001b[01m\u001b[Kvoid fasttext::FastText::quantize(const fasttext::Args&)\u001b[m\u001b[K’:\n",
      "\u001b[01m\u001b[Ksrc/fasttext.cc:302:45:\u001b[m\u001b[K \u001b[01;35m\u001b[Kwarning: \u001b[m\u001b[K‘\u001b[01m\u001b[Kstd::vector<int> fasttext::FastText::selectEmbeddings(int32_t) const\u001b[m\u001b[K’ is deprecated: selectEmbeddings is being deprecated. [\u001b[01;35m\u001b[K-Wdeprecated-declarations\u001b[m\u001b[K]\n",
      "     auto idx = selectEmbeddings(qargs.cutoff\u001b[01;35m\u001b[K)\u001b[m\u001b[K;\n",
      "                                             \u001b[01;35m\u001b[K^\u001b[m\u001b[K\n",
      "\u001b[01m\u001b[Ksrc/fasttext.cc:279:22:\u001b[m\u001b[K \u001b[01;36m\u001b[Knote: \u001b[m\u001b[Kdeclared here\n",
      " std::vector<int32_t> \u001b[01;36m\u001b[KFastText\u001b[m\u001b[K::selectEmbeddings(int32_t cutoff) const {\n",
      "                      \u001b[01;36m\u001b[K^~~~~~~~\u001b[m\u001b[K\n",
      "\u001b[01m\u001b[Ksrc/fasttext.cc:\u001b[m\u001b[K In member function ‘\u001b[01m\u001b[Kvoid fasttext::FastText::lazyComputeWordVectors()\u001b[m\u001b[K’:\n",
      "\u001b[01m\u001b[Ksrc/fasttext.cc:531:40:\u001b[m\u001b[K \u001b[01;35m\u001b[Kwarning: \u001b[m\u001b[K‘\u001b[01m\u001b[Kvoid fasttext::FastText::precomputeWordVectors(fasttext::Matrix&)\u001b[m\u001b[K’ is deprecated: precomputeWordVectors is being deprecated. [\u001b[01;35m\u001b[K-Wdeprecated-declarations\u001b[m\u001b[K]\n",
      "     precomputeWordVectors(*wordVectors_\u001b[01;35m\u001b[K)\u001b[m\u001b[K;\n",
      "                                        \u001b[01;35m\u001b[K^\u001b[m\u001b[K\n",
      "\u001b[01m\u001b[Ksrc/fasttext.cc:514:6:\u001b[m\u001b[K \u001b[01;36m\u001b[Knote: \u001b[m\u001b[Kdeclared here\n",
      " void \u001b[01;36m\u001b[KFastText\u001b[m\u001b[K::precomputeWordVectors(Matrix& wordVectors) {\n",
      "      \u001b[01;36m\u001b[K^~~~~~~~\u001b[m\u001b[K\n",
      "\u001b[01m\u001b[Ksrc/fasttext.cc:\u001b[m\u001b[K In member function ‘\u001b[01m\u001b[Kvoid fasttext::FastText::trainThread(int32_t)\u001b[m\u001b[K’:\n",
      "\u001b[01m\u001b[Ksrc/fasttext.cc:650:41:\u001b[m\u001b[K \u001b[01;35m\u001b[Kwarning: \u001b[m\u001b[K‘\u001b[01m\u001b[Kvoid fasttext::FastText::supervised(fasttext::Model&, fasttext::real, const std::vector<int>&, const std::vector<int>&)\u001b[m\u001b[K’ is deprecated: supervised is being deprecated. [\u001b[01;35m\u001b[K-Wdeprecated-declarations\u001b[m\u001b[K]\n",
      "       supervised(model, lr, line, labels\u001b[01;35m\u001b[K)\u001b[m\u001b[K;\n",
      "                                         \u001b[01;35m\u001b[K^\u001b[m\u001b[K\n",
      "\u001b[01m\u001b[Ksrc/fasttext.cc:338:6:\u001b[m\u001b[K \u001b[01;36m\u001b[Knote: \u001b[m\u001b[Kdeclared here\n",
      " void \u001b[01;36m\u001b[KFastText\u001b[m\u001b[K::supervised(\n",
      "      \u001b[01;36m\u001b[K^~~~~~~~\u001b[m\u001b[K\n",
      "\u001b[01m\u001b[Ksrc/fasttext.cc:653:27:\u001b[m\u001b[K \u001b[01;35m\u001b[Kwarning: \u001b[m\u001b[K‘\u001b[01m\u001b[Kvoid fasttext::FastText::cbow(fasttext::Model&, fasttext::real, const std::vector<int>&)\u001b[m\u001b[K’ is deprecated: cbow is being deprecated. [\u001b[01;35m\u001b[K-Wdeprecated-declarations\u001b[m\u001b[K]\n",
      "       cbow(model, lr, line\u001b[01;35m\u001b[K)\u001b[m\u001b[K;\n",
      "                           \u001b[01;35m\u001b[K^\u001b[m\u001b[K\n",
      "\u001b[01m\u001b[Ksrc/fasttext.cc:355:6:\u001b[m\u001b[K \u001b[01;36m\u001b[Knote: \u001b[m\u001b[Kdeclared here\n",
      " void \u001b[01;36m\u001b[KFastText\u001b[m\u001b[K::cbow(Model& model, real lr, const std::vector<int32_t>& line) {\n",
      "      \u001b[01;36m\u001b[K^~~~~~~~\u001b[m\u001b[K\n",
      "\u001b[01m\u001b[Ksrc/fasttext.cc:656:31:\u001b[m\u001b[K \u001b[01;35m\u001b[Kwarning: \u001b[m\u001b[K‘\u001b[01m\u001b[Kvoid fasttext::FastText::skipgram(fasttext::Model&, fasttext::real, const std::vector<int>&)\u001b[m\u001b[K’ is deprecated: skipgram is being deprecated. [\u001b[01;35m\u001b[K-Wdeprecated-declarations\u001b[m\u001b[K]\n",
      "       skipgram(model, lr, line\u001b[01;35m\u001b[K)\u001b[m\u001b[K;\n",
      "                               \u001b[01;35m\u001b[K^\u001b[m\u001b[K\n",
      "\u001b[01m\u001b[Ksrc/fasttext.cc:371:6:\u001b[m\u001b[K \u001b[01;36m\u001b[Knote: \u001b[m\u001b[Kdeclared here\n",
      " void \u001b[01;36m\u001b[KFastText\u001b[m\u001b[K::skipgram(\n",
      "      \u001b[01;36m\u001b[K^~~~~~~~\u001b[m\u001b[K\n",
      "c++ -pthread -std=c++0x -march=native -O3 -funroll-loops args.o dictionary.o productquantizer.o matrix.o qmatrix.o vector.o model.o utils.o meter.o fasttext.o src/main.cc -o fasttext\n"
     ]
    }
   ],
   "source": [
    "!wget https://github.com/facebookresearch/fastText/archive/v0.2.0.zip\n",
    "!unzip v0.2.0.zip\n",
    "%cd fastText-0.2.0\n",
    "!make"
   ]
  },
  {
   "cell_type": "code",
   "execution_count": 78,
   "metadata": {
    "colab": {
     "base_uri": "https://localhost:8080/",
     "height": 34
    },
    "colab_type": "code",
    "executionInfo": {
     "elapsed": 390,
     "status": "ok",
     "timestamp": 1559672262137,
     "user": {
      "displayName": "Rajdeep Surolia",
      "photoUrl": "https://lh6.googleusercontent.com/-M3hLJsdJBcw/AAAAAAAAAAI/AAAAAAAAIbo/yUledXU-8ys/s64/photo.jpg",
      "userId": "16899770412623674977"
     },
     "user_tz": -120
    },
    "id": "h7lhRHRmRITq",
    "outputId": "1bed7bf9-2f24-4f83-c347-3c8d7fc1970f"
   },
   "outputs": [
    {
     "name": "stdout",
     "output_type": "stream",
     "text": [
      "/content/drive/My Drive/Colab Notebooks\n"
     ]
    }
   ],
   "source": [
    "%cd .."
   ]
  },
  {
   "cell_type": "code",
   "execution_count": 0,
   "metadata": {
    "colab": {},
    "colab_type": "code",
    "id": "UyCQOwH4-5K6"
   },
   "outputs": [],
   "source": [
    "with open('final_train_lap_text_list.txt', 'w') as f:\n",
    "    for item in final_train_text_list:\n",
    "        f.write(\"%s\\n\" % item)"
   ]
  },
  {
   "cell_type": "code",
   "execution_count": 82,
   "metadata": {
    "colab": {
     "base_uri": "https://localhost:8080/",
     "height": 85
    },
    "colab_type": "code",
    "executionInfo": {
     "elapsed": 18842,
     "status": "ok",
     "timestamp": 1559676963572,
     "user": {
      "displayName": "Rajdeep Surolia",
      "photoUrl": "https://lh6.googleusercontent.com/-M3hLJsdJBcw/AAAAAAAAAAI/AAAAAAAAIbo/yUledXU-8ys/s64/photo.jpg",
      "userId": "16899770412623674977"
     },
     "user_tz": -120
    },
    "id": "bRuf9AQqabFO",
    "outputId": "277f86ee-4383-4c56-fca3-b52cd1e1d7ba"
   },
   "outputs": [
    {
     "name": "stdout",
     "output_type": "stream",
     "text": [
      "\r",
      "Read 0M words\n",
      "Number of words:  692\n",
      "Number of labels: 0\n",
      "Progress: 100.0% words/sec/thread:     927 lr:  0.000000 loss:  2.837866 ETA:   0h 0m\n"
     ]
    }
   ],
   "source": [
    "!./fastText-0.2.0/fasttext skipgram -input final_train_lap_text_list.txt -output lap_train_fasttext"
   ]
  },
  {
   "cell_type": "code",
   "execution_count": 83,
   "metadata": {
    "colab": {
     "base_uri": "https://localhost:8080/",
     "height": 105
    },
    "colab_type": "code",
    "executionInfo": {
     "elapsed": 2165,
     "status": "ok",
     "timestamp": 1559677011302,
     "user": {
      "displayName": "Rajdeep Surolia",
      "photoUrl": "https://lh6.googleusercontent.com/-M3hLJsdJBcw/AAAAAAAAAAI/AAAAAAAAIbo/yUledXU-8ys/s64/photo.jpg",
      "userId": "16899770412623674977"
     },
     "user_tz": -120
    },
    "id": "qRGhaqnhr5qQ",
    "outputId": "f8aaff64-0d08-4ad4-dfef-86a011adfd38"
   },
   "outputs": [
    {
     "name": "stdout",
     "output_type": "stream",
     "text": [
      "692 100\n",
      "is 0.048605 0.089964 -0.19173 0.17796 0.16871 0.081048 0.042013 0.12641 0.013913 0.036666 -0.016862 -0.043748 -0.098599 0.15753 -0.0072601 0.0040584 -0.070804 0.12455 -0.13194 0.15266 0.059934 -0.038058 0.10256 0.12049 -0.23423 0.027832 0.30983 0.10331 -0.098036 0.20962 0.13913 0.38013 0.15401 0.092495 0.15794 -0.14718 0.14494 0.014829 -0.18482 0.14736 0.060854 0.032302 -0.20278 -0.17558 0.05908 0.0067925 0.087013 0.066245 -0.042679 -0.072516 -0.0057534 -0.18203 -0.039749 0.01164 -0.012033 0.00048501 0.03497 0.1547 -0.029176 0.01594 -0.23832 0.27767 0.15675 0.10022 0.086229 0.026763 0.094115 0.16339 -0.2382 -0.16304 0.24004 -0.13151 -0.42724 -0.14775 0.011885 0.095501 -0.008131 -0.030775 -0.085245 0.3064 -0.14926 -0.26184 -0.064748 -0.041313 0.22018 0.088797 0.17517 0.13287 0.12684 0.32542 -0.079685 -0.12319 0.0096853 -0.24497 -0.0045057 -0.27031 -0.049547 -0.28373 0.0031253 0.20304 \n",
      "</s> 0.057321 0.094223 -0.18317 0.17303 0.17416 0.092356 0.032796 0.12837 0.011657 0.030783 -0.01509 -0.048158 -0.10882 0.16139 -0.011279 -0.0041294 -0.072171 0.13245 -0.14577 0.15413 0.05351 -0.035938 0.10514 0.13019 -0.24677 0.021053 0.30437 0.10286 -0.097986 0.20273 0.13941 0.38917 0.16083 0.091767 0.15321 -0.14999 0.14511 0.021076 -0.1858 0.14781 0.047232 0.041715 -0.21103 -0.17401 0.067949 0.0085564 0.098269 0.060964 -0.047353 -0.071997 -0.0051129 -0.18531 -0.03568 0.018024 -0.020795 0.0080857 0.022485 0.16303 -0.022057 0.015812 -0.24226 0.28667 0.16826 0.1104 0.091424 0.020266 0.090513 0.15704 -0.24842 -0.16901 0.25252 -0.13054 -0.43153 -0.15643 0.010371 0.097121 -0.0078885 -0.030817 -0.081264 0.3184 -0.14846 -0.27704 -0.069324 -0.040148 0.22705 0.092085 0.1772 0.12305 0.12665 0.34001 -0.079031 -0.12155 0.011736 -0.24335 0.00081808 -0.27516 -0.055134 -0.29244 -0.0037731 0.20029 \n",
      "laptop 0.054979 0.087139 -0.18798 0.18054 0.16546 0.08342 0.03966 0.12576 0.015273 0.034429 -0.017029 -0.041851 -0.10494 0.15425 -0.0054653 0.0029193 -0.076389 0.12775 -0.14001 0.15659 0.059828 -0.046578 0.098449 0.12156 -0.23587 0.027112 0.30931 0.10239 -0.091859 0.20765 0.13998 0.38752 0.15495 0.095363 0.15706 -0.14575 0.15209 0.018408 -0.18379 0.15277 0.053978 0.030476 -0.20527 -0.17704 0.060058 0.0067846 0.090032 0.064006 -0.041572 -0.075859 -0.0029155 -0.18043 -0.038434 0.011356 -0.0088705 0.0058546 0.031714 0.1581 -0.029326 0.017636 -0.23522 0.28118 0.16457 0.10268 0.087227 0.023211 0.096869 0.15946 -0.23795 -0.16401 0.25027 -0.13482 -0.43258 -0.14762 0.010875 0.099349 -0.0052536 -0.033785 -0.085217 0.31056 -0.14811 -0.27036 -0.069998 -0.039008 0.21905 0.085316 0.17558 0.13302 0.13005 0.32778 -0.081775 -0.12244 0.011352 -0.24185 -0.0083811 -0.27351 -0.052975 -0.29133 0.0031432 0.20438 \n"
     ]
    }
   ],
   "source": [
    "!head -n 4 lap_train_fasttext.vec"
   ]
  },
  {
   "cell_type": "code",
   "execution_count": 0,
   "metadata": {
    "colab": {},
    "colab_type": "code",
    "id": "7OQO5oklAJFh"
   },
   "outputs": [],
   "source": [
    "ft_model_own = fastText.load_model('/content/drive/My Drive/Colab Notebooks/lap_train_fasttext.bin')"
   ]
  },
  {
   "cell_type": "code",
   "execution_count": 0,
   "metadata": {
    "colab": {},
    "colab_type": "code",
    "id": "P9yWohTbCynd"
   },
   "outputs": [],
   "source": [
    "#def get_vecs_own(embedding_type, operation):\n",
    "#  embed = []\n",
    "#  if operation == \"train\":\n",
    "#    X = X_train\n",
    "#  else:\n",
    "#    X = X_test \n",
    "#  i = 0\n",
    "#  for sent in X:\n",
    "#    words = sent.split()\n",
    "#    for w in words:\n",
    "#      if embedding_type == 'fasttext':\n",
    "#          embedding = ft_model_own.get_word_vector(w)\n",
    "#      embed.append(embedding)\n",
    "#      i += 1\n",
    "#  write_binary(embed, operation, embedding_type, False)\n",
    "#  return embed"
   ]
  },
  {
   "cell_type": "code",
   "execution_count": 0,
   "metadata": {
    "colab": {},
    "colab_type": "code",
    "id": "pCHuxTGvaA_z"
   },
   "outputs": [],
   "source": [
    "def get_vecs_own(embedding_type, operation):\n",
    "  embed = []\n",
    "  if operation == \"train\":\n",
    "    X = X_train\n",
    "  else:\n",
    "    X = X_test \n",
    "  for sent in X:\n",
    "    if embedding_type == 'fasttext':\n",
    "        embedding = ft_model_own.get_word_vector(sent)\n",
    "    embed.append(embedding)\n",
    "  write_binary(embed, operation, embedding_type, False)\n",
    "  return embed"
   ]
  },
  {
   "cell_type": "code",
   "execution_count": 0,
   "metadata": {
    "colab": {},
    "colab_type": "code",
    "id": "j4jYj4IyGlQZ"
   },
   "outputs": [],
   "source": [
    "X_train_ft = get_vecs_own('fasttext', \"train\")"
   ]
  },
  {
   "cell_type": "code",
   "execution_count": 0,
   "metadata": {
    "colab": {},
    "colab_type": "code",
    "id": "Vhu3-wmdG7At"
   },
   "outputs": [],
   "source": [
    "X_test_ft = get_vecs_own('fasttext', \"test\")"
   ]
  },
  {
   "cell_type": "markdown",
   "metadata": {},
   "source": [
    "## Visualize self trained fasttext embedding in t-sne"
   ]
  },
  {
   "cell_type": "code",
   "execution_count": 0,
   "metadata": {
    "colab": {},
    "colab_type": "code",
    "id": "o2LwLG8TPJDe"
   },
   "outputs": [],
   "source": [
    "# Declaring two empty lists. One for words and one for their corresponding vector representation\n",
    "\n",
    "words = []\n",
    "vecs = []\n",
    "\n",
    "# Getting word and corresponding vector from each line of the model.vec file generated by fasttext \n",
    "\n",
    "import codecs # To open the file in specific mode\n",
    "\n",
    "with codecs.open('/content/drive/My Drive/Colab Notebooks/lap_train_fasttext.vec', 'r', 'utf-8') as f_in:\n",
    "    vocabulary, wv = zip(*[line.strip().split(' ', 1) for line in f_in])\n",
    "    \n",
    " \n",
    "# Populating the two lists. Need to convert vector values from string to numpy array \n",
    "\n",
    "for i in range(10,len(vocabulary)): # Usually skip first 10 words becuase they might be garbage values.\n",
    "    words.append(vocabulary[i])\n",
    "    x = wv[i]\n",
    "    vecs.append(np.fromstring(x,dtype='float32',sep=' '))   \n",
    "    # np.fromstring takes string values and converts to float32 with space as a separator"
   ]
  },
  {
   "cell_type": "code",
   "execution_count": 0,
   "metadata": {
    "colab": {},
    "colab_type": "code",
    "id": "pJXQurPfZl23"
   },
   "outputs": [],
   "source": [
    "# Carrying out Singular Value Decomposition\n",
    "\n",
    "U, s, Vh = np.linalg.svd(vecs,full_matrices=False)"
   ]
  },
  {
   "cell_type": "code",
   "execution_count": 146,
   "metadata": {
    "colab": {
     "base_uri": "https://localhost:8080/",
     "height": 642
    },
    "colab_type": "code",
    "executionInfo": {
     "elapsed": 4122,
     "status": "ok",
     "timestamp": 1559683892907,
     "user": {
      "displayName": "Rajdeep Surolia",
      "photoUrl": "https://lh6.googleusercontent.com/-M3hLJsdJBcw/AAAAAAAAAAI/AAAAAAAAIbo/yUledXU-8ys/s64/photo.jpg",
      "userId": "16899770412623674977"
     },
     "user_tz": -120
    },
    "id": "DKlQAsTmZrMn",
    "outputId": "516e3331-445c-4149-eb1f-6322ba706e16"
   },
   "outputs": [
    {
     "data": {
      "image/png": "[encoded data removed]",
      "text/plain": [
       "<Figure size 1332x756 with 1 Axes>"
      ]
     },
     "metadata": {
      "tags": []
     },
     "output_type": "display_data"
    }
   ],
   "source": [
    "import matplotlib.pyplot as plt\n",
    "\n",
    "# Plotting words and their vector representations\n",
    "\n",
    "for i in range(len(words)):\n",
    "        fig = plt.gcf()\n",
    "        fig.set_size_inches(18.5, 10.5)\n",
    "        plt.text(U[i,0], U[i,1], words[i])\n",
    "        plt.xlim((-0.5,0.5))\n",
    "        plt.ylim((-0.5,0.5))\n",
    "        \n",
    "plt.savefig('lap_train_fasttext_viz.jpg')"
   ]
  },
  {
   "cell_type": "code",
   "execution_count": 0,
   "metadata": {
    "colab": {},
    "colab_type": "code",
    "id": "48zdnPl1Z3Yk"
   },
   "outputs": [],
   "source": []
  }
 ],
 "metadata": {
  "accelerator": "GPU",
  "colab": {
   "collapsed_sections": [],
   "name": "MultiNB+SVC+LinSVC+SGD.ipynb",
   "provenance": [],
   "version": "0.3.2"
  },
  "kernelspec": {
   "display_name": "Python 3",
   "language": "python",
   "name": "python3"
  },
  "language_info": {
   "codemirror_mode": {
    "name": "ipython",
    "version": 3
   },
   "file_extension": ".py",
   "mimetype": "text/x-python",
   "name": "python",
   "nbconvert_exporter": "python",
   "pygments_lexer": "ipython3",
   "version": "3.7.2"
  }
 },
 "nbformat": 4,
 "nbformat_minor": 1
}
